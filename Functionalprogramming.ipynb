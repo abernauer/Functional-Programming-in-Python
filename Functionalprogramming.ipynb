{
  "nbformat": 4,
  "nbformat_minor": 0,
  "metadata": {
    "colab": {
      "name": "Functionalprogramming.ipynb",
      "provenance": [],
      "authorship_tag": "ABX9TyMDNF80nunQRBvY88SvyiIO",
      "include_colab_link": true
    },
    "kernelspec": {
      "name": "python3",
      "display_name": "Python 3"
    }
  },
  "cells": [
    {
      "cell_type": "markdown",
      "metadata": {
        "id": "view-in-github",
        "colab_type": "text"
      },
      "source": [
        "<a href=\"https://colab.research.google.com/github/abernauer/Functional-Programming-in-Python/blob/master/Functionalprogramming.ipynb\" target=\"_parent\"><img src=\"https://colab.research.google.com/assets/colab-badge.svg\" alt=\"Open In Colab\"/></a>"
      ]
    },
    {
      "cell_type": "markdown",
      "metadata": {
        "id": "HILYxURARnnu",
        "colab_type": "text"
      },
      "source": [
        "# Functional Programming in Python"
      ]
    },
    {
      "cell_type": "markdown",
      "metadata": {
        "id": "bEJMtvJPRvG1",
        "colab_type": "text"
      },
      "source": [
        "Style that uses immutable data structures and using the evaluation of mathematical functions."
      ]
    },
    {
      "cell_type": "markdown",
      "metadata": {
        "id": "uNSxvxkLTwIS",
        "colab_type": "text"
      },
      "source": [
        "Mutable data structure:"
      ]
    },
    {
      "cell_type": "code",
      "metadata": {
        "id": "2q3hJUj5Q3z2",
        "colab_type": "code",
        "colab": {}
      },
      "source": [
        "scientists = [\n",
        "        {'name': 'Ada Lovelace', 'field': 'math', 'born': 1815, 'nobel': False},\n",
        "        {'name': 'Emmy Noether', 'field': 'math', 'born': 1882, 'nobel': False},      \n",
        "]"
      ],
      "execution_count": 90,
      "outputs": []
    },
    {
      "cell_type": "code",
      "metadata": {
        "id": "D4C4vK4MSA1E",
        "colab_type": "code",
        "colab": {
          "base_uri": "https://localhost:8080/",
          "height": 53
        },
        "outputId": "df2faa4e-513e-43cb-f849-cfda854ec608"
      },
      "source": [
        "scientists"
      ],
      "execution_count": 91,
      "outputs": [
        {
          "output_type": "execute_result",
          "data": {
            "text/plain": [
              "[{'born': 1815, 'field': 'math', 'name': 'Ada Lovelace', 'nobel': False},\n",
              " {'born': 1882, 'field': 'math', 'name': 'Emmy Noether', 'nobel': False}]"
            ]
          },
          "metadata": {
            "tags": []
          },
          "execution_count": 91
        }
      ]
    },
    {
      "cell_type": "code",
      "metadata": {
        "id": "cVIalwuSTcB9",
        "colab_type": "code",
        "colab": {}
      },
      "source": [
        "scientists[0]['name'] = 'Ed Lovelace'"
      ],
      "execution_count": 92,
      "outputs": []
    },
    {
      "cell_type": "code",
      "metadata": {
        "id": "dpV9tg-qTkxv",
        "colab_type": "code",
        "colab": {
          "base_uri": "https://localhost:8080/",
          "height": 53
        },
        "outputId": "346e893d-b923-4b67-db5d-ab9670335989"
      },
      "source": [
        "scientists"
      ],
      "execution_count": 93,
      "outputs": [
        {
          "output_type": "execute_result",
          "data": {
            "text/plain": [
              "[{'born': 1815, 'field': 'math', 'name': 'Ed Lovelace', 'nobel': False},\n",
              " {'born': 1882, 'field': 'math', 'name': 'Emmy Noether', 'nobel': False}]"
            ]
          },
          "metadata": {
            "tags": []
          },
          "execution_count": 93
        }
      ]
    },
    {
      "cell_type": "code",
      "metadata": {
        "id": "tGwXXmr_Tqzu",
        "colab_type": "code",
        "colab": {
          "base_uri": "https://localhost:8080/",
          "height": 35
        },
        "outputId": "adb62630-6bb2-4eb0-f6e0-eef44069dbc0"
      },
      "source": [
        "{'nime': 'Marie Curie', 'field': 'physics' }"
      ],
      "execution_count": 94,
      "outputs": [
        {
          "output_type": "execute_result",
          "data": {
            "text/plain": [
              "{'field': 'physics', 'nime': 'Marie Curie'}"
            ]
          },
          "metadata": {
            "tags": []
          },
          "execution_count": 94
        }
      ]
    },
    {
      "cell_type": "markdown",
      "metadata": {
        "id": "kE2KmkBkjyli",
        "colab_type": "text"
      },
      "source": [
        "# Immutable Data Structures"
      ]
    },
    {
      "cell_type": "code",
      "metadata": {
        "id": "ByYIFAcWj-qW",
        "colab_type": "code",
        "colab": {}
      },
      "source": [
        "import collections "
      ],
      "execution_count": 95,
      "outputs": []
    },
    {
      "cell_type": "markdown",
      "metadata": {
        "id": "DVU3MTUCnTSM",
        "colab_type": "text"
      },
      "source": [
        "Factory function below that creates a named tuple class."
      ]
    },
    {
      "cell_type": "code",
      "metadata": {
        "id": "AaGdyDG6m2ay",
        "colab_type": "code",
        "colab": {}
      },
      "source": [
        "Scientist = collections.namedtuple('Scientist', [\n",
        "       'name',\n",
        "       'field',\n",
        "       'born',\n",
        "       'nobel'\n",
        "])                                          "
      ],
      "execution_count": 96,
      "outputs": []
    },
    {
      "cell_type": "code",
      "metadata": {
        "id": "yX6t3s5xnhll",
        "colab_type": "code",
        "colab": {
          "base_uri": "https://localhost:8080/",
          "height": 35
        },
        "outputId": "192fbec6-d3ac-4023-d4a5-d2a0e4119387"
      },
      "source": [
        "Scientist"
      ],
      "execution_count": 97,
      "outputs": [
        {
          "output_type": "execute_result",
          "data": {
            "text/plain": [
              "__main__.Scientist"
            ]
          },
          "metadata": {
            "tags": []
          },
          "execution_count": 97
        }
      ]
    },
    {
      "cell_type": "code",
      "metadata": {
        "id": "88YUkLn_n4Rq",
        "colab_type": "code",
        "colab": {
          "base_uri": "https://localhost:8080/",
          "height": 35
        },
        "outputId": "5ea4286a-9fe6-4ce4-bfdd-f99065859855"
      },
      "source": [
        "Scientist(name='Ada Lovelace', field='math', born=1815, nobel=False)"
      ],
      "execution_count": 98,
      "outputs": [
        {
          "output_type": "execute_result",
          "data": {
            "text/plain": [
              "Scientist(name='Ada Lovelace', field='math', born=1815, nobel=False)"
            ]
          },
          "metadata": {
            "tags": []
          },
          "execution_count": 98
        }
      ]
    },
    {
      "cell_type": "code",
      "metadata": {
        "id": "chsURQ6soOIj",
        "colab_type": "code",
        "colab": {}
      },
      "source": [
        "ada = Scientist(name='Ada Lovelace', field='math', born=1815, nobel=False)"
      ],
      "execution_count": 99,
      "outputs": []
    },
    {
      "cell_type": "code",
      "metadata": {
        "id": "M2Z2U5L6oRpG",
        "colab_type": "code",
        "colab": {
          "base_uri": "https://localhost:8080/",
          "height": 35
        },
        "outputId": "6e03add5-82cb-4067-9d60-bfb4bfd1a76f"
      },
      "source": [
        "ada.name"
      ],
      "execution_count": 100,
      "outputs": [
        {
          "output_type": "execute_result",
          "data": {
            "application/vnd.google.colaboratory.intrinsic+json": {
              "type": "string"
            },
            "text/plain": [
              "'Ada Lovelace'"
            ]
          },
          "metadata": {
            "tags": []
          },
          "execution_count": 100
        }
      ]
    },
    {
      "cell_type": "code",
      "metadata": {
        "id": "KnqZo7floUhl",
        "colab_type": "code",
        "colab": {
          "base_uri": "https://localhost:8080/",
          "height": 35
        },
        "outputId": "185aa98f-dde6-47b9-92a4-0f9ba71229d9"
      },
      "source": [
        "ada.field"
      ],
      "execution_count": 101,
      "outputs": [
        {
          "output_type": "execute_result",
          "data": {
            "application/vnd.google.colaboratory.intrinsic+json": {
              "type": "string"
            },
            "text/plain": [
              "'math'"
            ]
          },
          "metadata": {
            "tags": []
          },
          "execution_count": 101
        }
      ]
    },
    {
      "cell_type": "code",
      "metadata": {
        "id": "mmpkIWMaoYqQ",
        "colab_type": "code",
        "colab": {
          "base_uri": "https://localhost:8080/",
          "height": 172
        },
        "outputId": "872b158b-c9a1-42f9-caa2-48fcdaef3074"
      },
      "source": [
        "ada.name = 'Ed Lovelace'"
      ],
      "execution_count": 102,
      "outputs": [
        {
          "output_type": "error",
          "ename": "AttributeError",
          "evalue": "ignored",
          "traceback": [
            "\u001b[0;31m---------------------------------------------------------------------------\u001b[0m",
            "\u001b[0;31mAttributeError\u001b[0m                            Traceback (most recent call last)",
            "\u001b[0;32m<ipython-input-102-e900d367367a>\u001b[0m in \u001b[0;36m<module>\u001b[0;34m()\u001b[0m\n\u001b[0;32m----> 1\u001b[0;31m \u001b[0mada\u001b[0m\u001b[0;34m.\u001b[0m\u001b[0mname\u001b[0m \u001b[0;34m=\u001b[0m \u001b[0;34m'Ed Lovelace'\u001b[0m\u001b[0;34m\u001b[0m\u001b[0;34m\u001b[0m\u001b[0m\n\u001b[0m",
            "\u001b[0;31mAttributeError\u001b[0m: can't set attribute"
          ]
        }
      ]
    },
    {
      "cell_type": "markdown",
      "metadata": {
        "id": "PavIAM57okbo",
        "colab_type": "text"
      },
      "source": [
        "## Danger Zone: Mixing Mutable and Immutable Data Structures"
      ]
    },
    {
      "cell_type": "code",
      "metadata": {
        "id": "7nahW3dTpqSK",
        "colab_type": "code",
        "colab": {}
      },
      "source": [
        "scientists = [\n",
        "    Scientist(name='Ada Lovelace', field='math', born=1815, nobel=False),\n",
        "    Scientist(name='Emmy Noether', field='math', born=1882, nobel=False),          \n",
        "]"
      ],
      "execution_count": null,
      "outputs": []
    },
    {
      "cell_type": "code",
      "metadata": {
        "id": "vuG8aGGwqMxu",
        "colab_type": "code",
        "colab": {}
      },
      "source": [
        "scientists"
      ],
      "execution_count": null,
      "outputs": []
    },
    {
      "cell_type": "code",
      "metadata": {
        "id": "fjXlCmhLqQht",
        "colab_type": "code",
        "colab": {}
      },
      "source": [
        "from pprint import pprint"
      ],
      "execution_count": null,
      "outputs": []
    },
    {
      "cell_type": "code",
      "metadata": {
        "id": "PB-awkpRqVMo",
        "colab_type": "code",
        "colab": {}
      },
      "source": [
        "pprint(scientists)"
      ],
      "execution_count": null,
      "outputs": []
    },
    {
      "cell_type": "code",
      "metadata": {
        "id": "lgC2Yd_zqdbi",
        "colab_type": "code",
        "colab": {}
      },
      "source": [
        "scientists[0].name = 'Ed Lovelace'"
      ],
      "execution_count": null,
      "outputs": []
    },
    {
      "cell_type": "code",
      "metadata": {
        "id": "UwEDfXFxqlZi",
        "colab_type": "code",
        "colab": {}
      },
      "source": [
        "del scientists[0]"
      ],
      "execution_count": null,
      "outputs": []
    },
    {
      "cell_type": "code",
      "metadata": {
        "id": "WL2LuJ0bqrPo",
        "colab_type": "code",
        "colab": {}
      },
      "source": [
        "scientists"
      ],
      "execution_count": null,
      "outputs": []
    },
    {
      "cell_type": "markdown",
      "metadata": {
        "id": "gUQdJl82qucU",
        "colab_type": "text"
      },
      "source": [
        "Defined immutable items in a mutable data stucture."
      ]
    },
    {
      "cell_type": "markdown",
      "metadata": {
        "id": "q3hOw84Nq314",
        "colab_type": "text"
      },
      "source": [
        "# Immutable Data Structures: Tuples"
      ]
    },
    {
      "cell_type": "code",
      "metadata": {
        "id": "POcbEqvfrck6",
        "colab_type": "code",
        "colab": {}
      },
      "source": [
        "scientists = (\n",
        "    Scientist(name='Ada Lovelace', field='math', born=1815, nobel=False),\n",
        "    Scientist(name='Emmy Noether', field='math', born=1882, nobel=False),\n",
        "    Scientist(name='Marie Curie', field='physics', born=1867, nobel=True),\n",
        "    Scientist(name='Tu Youyou', field='chemistry', born=1930, nobel=True),\n",
        "    Scientist(name='Ada Yonath', field='chemistry', born=1939, nobel=True),\n",
        "    Scientist(name='Vera Rubin', field='astronomy', born=1928, nobel=False),\n",
        "    Scientist(name='Sally Ride', field='physics', born=1951, nobel=False)\n",
        ")"
      ],
      "execution_count": 106,
      "outputs": []
    },
    {
      "cell_type": "code",
      "metadata": {
        "id": "ubFp5U-4uTA7",
        "colab_type": "code",
        "colab": {}
      },
      "source": [
        "scientists"
      ],
      "execution_count": null,
      "outputs": []
    },
    {
      "cell_type": "code",
      "metadata": {
        "id": "ZwiF2FWVuWOW",
        "colab_type": "code",
        "colab": {}
      },
      "source": [
        "pprint(scientists)"
      ],
      "execution_count": null,
      "outputs": []
    },
    {
      "cell_type": "code",
      "metadata": {
        "id": "1UXDsGgSuex-",
        "colab_type": "code",
        "colab": {}
      },
      "source": [
        "del scientists[0]"
      ],
      "execution_count": null,
      "outputs": []
    },
    {
      "cell_type": "code",
      "metadata": {
        "id": "D8GBbTXduirI",
        "colab_type": "code",
        "colab": {}
      },
      "source": [
        "scientists[0].name"
      ],
      "execution_count": null,
      "outputs": []
    },
    {
      "cell_type": "code",
      "metadata": {
        "id": "OYNw1LpDupFm",
        "colab_type": "code",
        "colab": {}
      },
      "source": [
        "pprint(scientists)"
      ],
      "execution_count": null,
      "outputs": []
    },
    {
      "cell_type": "markdown",
      "metadata": {
        "id": "gdoVxUrcvUbI",
        "colab_type": "text"
      },
      "source": [
        "## The filter function"
      ]
    },
    {
      "cell_type": "markdown",
      "metadata": {
        "id": "N8Q8q94ex-s7",
        "colab_type": "text"
      },
      "source": [
        "The filter function is a primitive that is built into the language. "
      ]
    },
    {
      "cell_type": "code",
      "metadata": {
        "id": "-qOMzR9MvYyX",
        "colab_type": "code",
        "colab": {}
      },
      "source": [
        "filter(lambda x: x.nobel is True, scientists)"
      ],
      "execution_count": null,
      "outputs": []
    },
    {
      "cell_type": "code",
      "metadata": {
        "id": "xR08JLiNv0Jw",
        "colab_type": "code",
        "colab": {}
      },
      "source": [
        "fs = filter(lambda x: x.nobel is True, scientists)"
      ],
      "execution_count": null,
      "outputs": []
    },
    {
      "cell_type": "code",
      "metadata": {
        "id": "P6xo3OPvv7Kf",
        "colab_type": "code",
        "colab": {}
      },
      "source": [
        "next(fs)"
      ],
      "execution_count": null,
      "outputs": []
    },
    {
      "cell_type": "code",
      "metadata": {
        "id": "Mxckz286wC_K",
        "colab_type": "code",
        "colab": {}
      },
      "source": [
        "next(fs)"
      ],
      "execution_count": null,
      "outputs": []
    },
    {
      "cell_type": "code",
      "metadata": {
        "id": "MTr6eiGywFlK",
        "colab_type": "code",
        "colab": {}
      },
      "source": [
        "next(fs)"
      ],
      "execution_count": null,
      "outputs": []
    },
    {
      "cell_type": "code",
      "metadata": {
        "id": "uVxrLgx5wH_9",
        "colab_type": "code",
        "colab": {}
      },
      "source": [
        "next(fs)"
      ],
      "execution_count": null,
      "outputs": []
    },
    {
      "cell_type": "code",
      "metadata": {
        "id": "4msLYIJ3yRnC",
        "colab_type": "code",
        "colab": {}
      },
      "source": [
        "tuple(filter(lambda x: x.nobel is True, scientists))"
      ],
      "execution_count": null,
      "outputs": []
    },
    {
      "cell_type": "code",
      "metadata": {
        "id": "-EfA3YvnybYy",
        "colab_type": "code",
        "colab": {}
      },
      "source": [
        "fs = tuple(filter(lambda x: x.nobel is True, scientists))"
      ],
      "execution_count": null,
      "outputs": []
    },
    {
      "cell_type": "code",
      "metadata": {
        "id": "7VEF6nfFypGA",
        "colab_type": "code",
        "colab": {}
      },
      "source": [
        "pprint(fs)"
      ],
      "execution_count": null,
      "outputs": []
    },
    {
      "cell_type": "markdown",
      "metadata": {
        "id": "OLtEOlkgyzB6",
        "colab_type": "text"
      },
      "source": [
        "The **filter** function allows us to a apply a function over an iterable of things. Then return a new collection with the met condition."
      ]
    },
    {
      "cell_type": "code",
      "metadata": {
        "id": "gXbA8nF9zMIk",
        "colab_type": "code",
        "colab": {}
      },
      "source": [
        "pprint(tuple(filter(lambda x: True, scientists)))"
      ],
      "execution_count": null,
      "outputs": []
    },
    {
      "cell_type": "code",
      "metadata": {
        "id": "jEO7XBuwzV5k",
        "colab_type": "code",
        "colab": {}
      },
      "source": [
        "pprint(tuple(filter(lambda x: x.field == 'physics', scientists)))"
      ],
      "execution_count": null,
      "outputs": []
    },
    {
      "cell_type": "code",
      "metadata": {
        "id": "mu1ZXVk-zf5C",
        "colab_type": "code",
        "colab": {}
      },
      "source": [
        "pprint(tuple(filter(lambda x: x.field == 'physics' and x.nobel, scientists)))"
      ],
      "execution_count": null,
      "outputs": []
    },
    {
      "cell_type": "markdown",
      "metadata": {
        "id": "cJy06tMW0ItG",
        "colab_type": "text"
      },
      "source": [
        "The advantage of the functional approach is it is declarative and allows for chaining."
      ]
    },
    {
      "cell_type": "code",
      "metadata": {
        "id": "Scx5n_Uxz94h",
        "colab_type": "code",
        "colab": {}
      },
      "source": [
        "for x in scientists:\n",
        "    if x.nobel is True:\n",
        "        print(x)"
      ],
      "execution_count": null,
      "outputs": []
    },
    {
      "cell_type": "code",
      "metadata": {
        "id": "ZLw91pzZ0TDW",
        "colab_type": "code",
        "colab": {}
      },
      "source": [
        "def nobel_filter(x):\n",
        "    return x.nobel is True"
      ],
      "execution_count": null,
      "outputs": []
    },
    {
      "cell_type": "code",
      "metadata": {
        "id": "FGzHbPOd0iHO",
        "colab_type": "code",
        "colab": {}
      },
      "source": [
        "pprint(tuple(filter(nobel_filter, scientists)))"
      ],
      "execution_count": null,
      "outputs": []
    },
    {
      "cell_type": "markdown",
      "metadata": {
        "id": "N5SDzBbr1Rad",
        "colab_type": "text"
      },
      "source": [
        "## Filtering List Comprehensions"
      ]
    },
    {
      "cell_type": "code",
      "metadata": {
        "id": "vreX6kYh1KVi",
        "colab_type": "code",
        "colab": {}
      },
      "source": [
        "[x for x in scientists if x.nobel is True]"
      ],
      "execution_count": null,
      "outputs": []
    },
    {
      "cell_type": "code",
      "metadata": {
        "id": "5Ps4CbDM1ttH",
        "colab_type": "code",
        "colab": {}
      },
      "source": [
        "pprint([x for x in scientists if x.nobel is True])"
      ],
      "execution_count": null,
      "outputs": []
    },
    {
      "cell_type": "code",
      "metadata": {
        "id": "8i72QsEG1wGv",
        "colab_type": "code",
        "colab": {}
      },
      "source": [
        "pprint(tuple([x for x in scientists if x.nobel is True]))"
      ],
      "execution_count": null,
      "outputs": []
    },
    {
      "cell_type": "markdown",
      "metadata": {
        "id": "jiEeJggK186T",
        "colab_type": "text"
      },
      "source": [
        "Getting rid of the list comphrension yields a generator expression. Which is more efficient."
      ]
    },
    {
      "cell_type": "code",
      "metadata": {
        "colab_type": "code",
        "id": "dfEFOH6F2SsA",
        "colab": {}
      },
      "source": [
        "pprint(tuple(x for x in scientists if x.nobel is True))"
      ],
      "execution_count": null,
      "outputs": []
    },
    {
      "cell_type": "code",
      "metadata": {
        "id": "vOrERH312dtg",
        "colab_type": "code",
        "colab": {}
      },
      "source": [
        "tuple([1,2,3])"
      ],
      "execution_count": null,
      "outputs": []
    },
    {
      "cell_type": "markdown",
      "metadata": {
        "id": "EBVcCS0oTKyD",
        "colab_type": "text"
      },
      "source": [
        "### The map function"
      ]
    },
    {
      "cell_type": "markdown",
      "metadata": {
        "id": "q2kIhaouUOvR",
        "colab_type": "text"
      },
      "source": [
        "Map applies a function to all elements of a collection returns a new collection\n",
        "\n"
      ]
    },
    {
      "cell_type": "code",
      "metadata": {
        "id": "-3CMPH4SUIpd",
        "colab_type": "code",
        "colab": {}
      },
      "source": [
        "pprint(scientists)"
      ],
      "execution_count": null,
      "outputs": []
    },
    {
      "cell_type": "code",
      "metadata": {
        "id": "Iszeqdz4Uekd",
        "colab_type": "code",
        "colab": {}
      },
      "source": [
        "names_and_ages = tuple(map(\n",
        "    lambda x: {'name': x.name, 'age': 2017 - x.born},\n",
        "    scientists\n",
        "))"
      ],
      "execution_count": 107,
      "outputs": []
    },
    {
      "cell_type": "code",
      "metadata": {
        "id": "KPP-jj1IVeEd",
        "colab_type": "code",
        "colab": {
          "base_uri": "https://localhost:8080/",
          "height": 143
        },
        "outputId": "a2b78f6a-b2ad-48d5-f18c-2dc3e4fc5432"
      },
      "source": [
        "names_and_ages"
      ],
      "execution_count": 108,
      "outputs": [
        {
          "output_type": "execute_result",
          "data": {
            "text/plain": [
              "({'age': 202, 'name': 'Ada Lovelace'},\n",
              " {'age': 135, 'name': 'Emmy Noether'},\n",
              " {'age': 150, 'name': 'Marie Curie'},\n",
              " {'age': 87, 'name': 'Tu Youyou'},\n",
              " {'age': 78, 'name': 'Ada Yonath'},\n",
              " {'age': 89, 'name': 'Vera Rubin'},\n",
              " {'age': 66, 'name': 'Sally Ride'})"
            ]
          },
          "metadata": {
            "tags": []
          },
          "execution_count": 108
        }
      ]
    },
    {
      "cell_type": "code",
      "metadata": {
        "id": "40bkMYqyVZFI",
        "colab_type": "code",
        "colab": {}
      },
      "source": [
        "pprint(names_and_ages)"
      ],
      "execution_count": null,
      "outputs": []
    },
    {
      "cell_type": "markdown",
      "metadata": {
        "id": "kIY5gWcfV7d_",
        "colab_type": "text"
      },
      "source": [
        "To make this more pythonic we would use a list comphrension."
      ]
    },
    {
      "cell_type": "code",
      "metadata": {
        "id": "GFZGjcatV6h1",
        "colab_type": "code",
        "colab": {}
      },
      "source": [
        "[{'name': x.name, 'age': 2017 - x.born}\n",
        " for x in scientists]"
      ],
      "execution_count": null,
      "outputs": []
    },
    {
      "cell_type": "code",
      "metadata": {
        "id": "RECqGTorWY-p",
        "colab_type": "code",
        "colab": {}
      },
      "source": [
        "tuple({'name': x.name, 'age': 2017 - x.born} for x in scientists)"
      ],
      "execution_count": null,
      "outputs": []
    },
    {
      "cell_type": "markdown",
      "metadata": {
        "id": "-7mXpbQ1XAey",
        "colab_type": "text"
      },
      "source": [
        "Generator expression with the same result."
      ]
    },
    {
      "cell_type": "code",
      "metadata": {
        "id": "ckSsL-imWshv",
        "colab_type": "code",
        "colab": {}
      },
      "source": [
        "pprint(tuple({'name': x.name, 'age': 2017 - x.born} for x in scientists))"
      ],
      "execution_count": null,
      "outputs": []
    },
    {
      "cell_type": "code",
      "metadata": {
        "id": "EArC0NxcXIv9",
        "colab_type": "code",
        "colab": {}
      },
      "source": [
        "pprint(tuple({'name': x.name, 'age': 2017 - x.born} for x in scientists))"
      ],
      "execution_count": null,
      "outputs": []
    },
    {
      "cell_type": "code",
      "metadata": {
        "id": "65jv0_QSXdL6",
        "colab_type": "code",
        "colab": {}
      },
      "source": [
        "pprint(tuple({'name': x.name.upper(), 'age': 2017 - x.born} for x in scientists))"
      ],
      "execution_count": null,
      "outputs": []
    },
    {
      "cell_type": "markdown",
      "metadata": {
        "id": "93ePhSFBXmPR",
        "colab_type": "text"
      },
      "source": [
        "## The reduce function"
      ]
    },
    {
      "cell_type": "markdown",
      "metadata": {
        "id": "T7o36jsoYXFg",
        "colab_type": "text"
      },
      "source": [
        "Takes a function, sequence, and initial value applies the function to"
      ]
    },
    {
      "cell_type": "code",
      "metadata": {
        "id": "KB90_cKaXr_a",
        "colab_type": "code",
        "colab": {}
      },
      "source": [
        "from functools import reduce"
      ],
      "execution_count": null,
      "outputs": []
    },
    {
      "cell_type": "code",
      "metadata": {
        "id": "7VNzpqbWYLxn",
        "colab_type": "code",
        "colab": {}
      },
      "source": [
        "reduce()"
      ],
      "execution_count": null,
      "outputs": []
    },
    {
      "cell_type": "code",
      "metadata": {
        "id": "HzvZg_CGYmhW",
        "colab_type": "code",
        "colab": {}
      },
      "source": [
        "pprint(scientists)"
      ],
      "execution_count": null,
      "outputs": []
    },
    {
      "cell_type": "code",
      "metadata": {
        "id": "at1vmWvzYwj6",
        "colab_type": "code",
        "colab": {
          "base_uri": "https://localhost:8080/",
          "height": 143
        },
        "outputId": "f2532582-31df-4c4f-b7d6-836180448a50"
      },
      "source": [
        "pprint(names_and_ages)"
      ],
      "execution_count": 109,
      "outputs": [
        {
          "output_type": "stream",
          "text": [
            "({'age': 202, 'name': 'Ada Lovelace'},\n",
            " {'age': 135, 'name': 'Emmy Noether'},\n",
            " {'age': 150, 'name': 'Marie Curie'},\n",
            " {'age': 87, 'name': 'Tu Youyou'},\n",
            " {'age': 78, 'name': 'Ada Yonath'},\n",
            " {'age': 89, 'name': 'Vera Rubin'},\n",
            " {'age': 66, 'name': 'Sally Ride'})\n"
          ],
          "name": "stdout"
        }
      ]
    },
    {
      "cell_type": "code",
      "metadata": {
        "id": "Dtxj6k0qYz77",
        "colab_type": "code",
        "colab": {}
      },
      "source": [
        "total_age = reduce(\n",
        "    lambda acc, val: acc + val['age'],\n",
        "    names_and_ages,\n",
        "    0)"
      ],
      "execution_count": 110,
      "outputs": []
    },
    {
      "cell_type": "code",
      "metadata": {
        "id": "OoADBgIUZPsW",
        "colab_type": "code",
        "colab": {
          "base_uri": "https://localhost:8080/",
          "height": 35
        },
        "outputId": "10076f60-b2f4-4cab-a00b-604338412722"
      },
      "source": [
        "total_age"
      ],
      "execution_count": 111,
      "outputs": [
        {
          "output_type": "execute_result",
          "data": {
            "text/plain": [
              "807"
            ]
          },
          "metadata": {
            "tags": []
          },
          "execution_count": 111
        }
      ]
    },
    {
      "cell_type": "code",
      "metadata": {
        "id": "viVV90V1cKoV",
        "colab_type": "code",
        "colab": {
          "base_uri": "https://localhost:8080/",
          "height": 35
        },
        "outputId": "c563f262-8ce8-4374-91ac-500f58bee5e5"
      },
      "source": [
        "sum(x['age'] for x in names_and_ages)"
      ],
      "execution_count": 112,
      "outputs": [
        {
          "output_type": "execute_result",
          "data": {
            "text/plain": [
              "807"
            ]
          },
          "metadata": {
            "tags": []
          },
          "execution_count": 112
        }
      ]
    },
    {
      "cell_type": "code",
      "metadata": {
        "id": "d84rjLD-caqZ",
        "colab_type": "code",
        "colab": {
          "base_uri": "https://localhost:8080/",
          "height": 35
        },
        "outputId": "57fe82a5-8a58-452f-8e7f-00b3ff115f56"
      },
      "source": [
        "{'math': [], 'physics': [], 'chemistry': [], 'astronomy': []}"
      ],
      "execution_count": 113,
      "outputs": [
        {
          "output_type": "execute_result",
          "data": {
            "text/plain": [
              "{'astronomy': [], 'chemistry': [], 'math': [], 'physics': []}"
            ]
          },
          "metadata": {
            "tags": []
          },
          "execution_count": 113
        }
      ]
    },
    {
      "cell_type": "code",
      "metadata": {
        "id": "QsRYaybUcz2D",
        "colab_type": "code",
        "colab": {
          "base_uri": "https://localhost:8080/",
          "height": 143
        },
        "outputId": "8ae99872-3e00-4440-ba64-03ac6fc4363e"
      },
      "source": [
        "pprint(scientists)"
      ],
      "execution_count": 114,
      "outputs": [
        {
          "output_type": "stream",
          "text": [
            "(Scientist(name='Ada Lovelace', field='math', born=1815, nobel=False),\n",
            " Scientist(name='Emmy Noether', field='math', born=1882, nobel=False),\n",
            " Scientist(name='Marie Curie', field='physics', born=1867, nobel=True),\n",
            " Scientist(name='Tu Youyou', field='chemistry', born=1930, nobel=True),\n",
            " Scientist(name='Ada Yonath', field='chemistry', born=1939, nobel=True),\n",
            " Scientist(name='Vera Rubin', field='astronomy', born=1928, nobel=False),\n",
            " Scientist(name='Sally Ride', field='physics', born=1951, nobel=False))\n"
          ],
          "name": "stdout"
        }
      ]
    },
    {
      "cell_type": "code",
      "metadata": {
        "id": "_rxE3Z5ic57Z",
        "colab_type": "code",
        "colab": {}
      },
      "source": [
        "def reducer(acc, val):\n",
        "  acc[val.field].append(val.name)\n",
        "  return acc"
      ],
      "execution_count": 115,
      "outputs": []
    },
    {
      "cell_type": "markdown",
      "metadata": {
        "id": "Yb3x5bs3dv92",
        "colab_type": "text"
      },
      "source": [
        "Needs a list of categories provided upfront."
      ]
    },
    {
      "cell_type": "code",
      "metadata": {
        "id": "jybH97kXdG8O",
        "colab_type": "code",
        "colab": {}
      },
      "source": [
        "scientists_by_field = reduce(\n",
        "    reducer,\n",
        "    scientists,\n",
        "    {'math': [], 'physics': [], 'chemistry': [], 'astronomy': []}\n",
        ")"
      ],
      "execution_count": 116,
      "outputs": []
    },
    {
      "cell_type": "code",
      "metadata": {
        "id": "sHX1EHz1dbXv",
        "colab_type": "code",
        "colab": {
          "base_uri": "https://localhost:8080/",
          "height": 89
        },
        "outputId": "614b40d0-04b3-4f63-b75a-d09bc0e0d04f"
      },
      "source": [
        "pprint(scientists_by_field)"
      ],
      "execution_count": 117,
      "outputs": [
        {
          "output_type": "stream",
          "text": [
            "{'astronomy': ['Vera Rubin'],\n",
            " 'chemistry': ['Tu Youyou', 'Ada Yonath'],\n",
            " 'math': ['Ada Lovelace', 'Emmy Noether'],\n",
            " 'physics': ['Marie Curie', 'Sally Ride']}\n"
          ],
          "name": "stdout"
        }
      ]
    },
    {
      "cell_type": "code",
      "metadata": {
        "id": "SrSSr3Nnd0rn",
        "colab_type": "code",
        "colab": {}
      },
      "source": [
        "import collections"
      ],
      "execution_count": 118,
      "outputs": []
    },
    {
      "cell_type": "code",
      "metadata": {
        "id": "NcpNW72Rd3c3",
        "colab_type": "code",
        "colab": {}
      },
      "source": [
        "scientists_by_field = reduce(\n",
        "    reducer,\n",
        "    scientists,\n",
        "    collections.defaultdict(list)\n",
        ")"
      ],
      "execution_count": 119,
      "outputs": []
    },
    {
      "cell_type": "code",
      "metadata": {
        "id": "AmYq4-fdeEC8",
        "colab_type": "code",
        "colab": {
          "base_uri": "https://localhost:8080/",
          "height": 107
        },
        "outputId": "34dabfc0-4886-4727-aaf8-23026a1815d0"
      },
      "source": [
        "pprint(scientists_by_field)"
      ],
      "execution_count": 120,
      "outputs": [
        {
          "output_type": "stream",
          "text": [
            "defaultdict(<class 'list'>,\n",
            "            {'astronomy': ['Vera Rubin'],\n",
            "             'chemistry': ['Tu Youyou', 'Ada Yonath'],\n",
            "             'math': ['Ada Lovelace', 'Emmy Noether'],\n",
            "             'physics': ['Marie Curie', 'Sally Ride']})\n"
          ],
          "name": "stdout"
        }
      ]
    },
    {
      "cell_type": "code",
      "metadata": {
        "id": "BZYGxor1eL4k",
        "colab_type": "code",
        "colab": {}
      },
      "source": [
        "dd = collections.defaultdict(list)"
      ],
      "execution_count": 121,
      "outputs": []
    },
    {
      "cell_type": "code",
      "metadata": {
        "id": "JdRWqw15ePFI",
        "colab_type": "code",
        "colab": {
          "base_uri": "https://localhost:8080/",
          "height": 35
        },
        "outputId": "cb8597a0-65b9-4d6f-97ad-1ea54b973e1b"
      },
      "source": [
        "dd"
      ],
      "execution_count": 122,
      "outputs": [
        {
          "output_type": "execute_result",
          "data": {
            "text/plain": [
              "defaultdict(list, {})"
            ]
          },
          "metadata": {
            "tags": []
          },
          "execution_count": 122
        }
      ]
    },
    {
      "cell_type": "code",
      "metadata": {
        "id": "X5Ta6g7jeQpW",
        "colab_type": "code",
        "colab": {
          "base_uri": "https://localhost:8080/",
          "height": 35
        },
        "outputId": "dbf24ace-6d22-4391-f598-65a3a4fdac1e"
      },
      "source": [
        "dd['doesntexist']"
      ],
      "execution_count": 123,
      "outputs": [
        {
          "output_type": "execute_result",
          "data": {
            "text/plain": [
              "[]"
            ]
          },
          "metadata": {
            "tags": []
          },
          "execution_count": 123
        }
      ]
    },
    {
      "cell_type": "code",
      "metadata": {
        "id": "DZ-b1AQteZO7",
        "colab_type": "code",
        "colab": {
          "base_uri": "https://localhost:8080/",
          "height": 35
        },
        "outputId": "2fba4aa5-2373-49ac-e1da-efef2d7cd957"
      },
      "source": [
        "dd"
      ],
      "execution_count": 124,
      "outputs": [
        {
          "output_type": "execute_result",
          "data": {
            "text/plain": [
              "defaultdict(list, {'doesntexist': []})"
            ]
          },
          "metadata": {
            "tags": []
          },
          "execution_count": 124
        }
      ]
    },
    {
      "cell_type": "code",
      "metadata": {
        "id": "xu51TK-FeirO",
        "colab_type": "code",
        "colab": {
          "base_uri": "https://localhost:8080/",
          "height": 35
        },
        "outputId": "272b05e3-38b2-4b1d-c9e6-75f6307b3368"
      },
      "source": [
        "dd['doesntexist---2']"
      ],
      "execution_count": 125,
      "outputs": [
        {
          "output_type": "execute_result",
          "data": {
            "text/plain": [
              "[]"
            ]
          },
          "metadata": {
            "tags": []
          },
          "execution_count": 125
        }
      ]
    },
    {
      "cell_type": "code",
      "metadata": {
        "id": "1eQpLG4kepew",
        "colab_type": "code",
        "colab": {
          "base_uri": "https://localhost:8080/",
          "height": 35
        },
        "outputId": "874db326-e7b3-4832-ea3b-5bfa9654c0c1"
      },
      "source": [
        "dd"
      ],
      "execution_count": 126,
      "outputs": [
        {
          "output_type": "execute_result",
          "data": {
            "text/plain": [
              "defaultdict(list, {'doesntexist': [], 'doesntexist---2': []})"
            ]
          },
          "metadata": {
            "tags": []
          },
          "execution_count": 126
        }
      ]
    },
    {
      "cell_type": "code",
      "metadata": {
        "id": "aMkAsXR_esTa",
        "colab_type": "code",
        "colab": {}
      },
      "source": [
        "dd['xyz'].append(1)"
      ],
      "execution_count": 127,
      "outputs": []
    },
    {
      "cell_type": "code",
      "metadata": {
        "id": "nIANJlXGewzI",
        "colab_type": "code",
        "colab": {
          "base_uri": "https://localhost:8080/",
          "height": 35
        },
        "outputId": "404c030d-3417-4081-8b2b-7934b9e53fd1"
      },
      "source": [
        "dd"
      ],
      "execution_count": 128,
      "outputs": [
        {
          "output_type": "execute_result",
          "data": {
            "text/plain": [
              "defaultdict(list, {'doesntexist': [], 'doesntexist---2': [], 'xyz': [1]})"
            ]
          },
          "metadata": {
            "tags": []
          },
          "execution_count": 128
        }
      ]
    },
    {
      "cell_type": "code",
      "metadata": {
        "id": "HWB4YHv2ewr9",
        "colab_type": "code",
        "colab": {}
      },
      "source": [
        "dd['xyz'].append(2)"
      ],
      "execution_count": 129,
      "outputs": []
    },
    {
      "cell_type": "code",
      "metadata": {
        "id": "wf_TemHue6hX",
        "colab_type": "code",
        "colab": {}
      },
      "source": [
        "dd['xyz'].append(3)"
      ],
      "execution_count": 130,
      "outputs": []
    },
    {
      "cell_type": "code",
      "metadata": {
        "id": "zQqjjMzrfBTv",
        "colab_type": "code",
        "colab": {
          "base_uri": "https://localhost:8080/",
          "height": 35
        },
        "outputId": "e0dfb9f4-3835-4173-d96f-64fe0ae2b2c4"
      },
      "source": [
        "dd"
      ],
      "execution_count": 131,
      "outputs": [
        {
          "output_type": "execute_result",
          "data": {
            "text/plain": [
              "defaultdict(list, {'doesntexist': [], 'doesntexist---2': [], 'xyz': [1, 2, 3]})"
            ]
          },
          "metadata": {
            "tags": []
          },
          "execution_count": 131
        }
      ]
    },
    {
      "cell_type": "code",
      "metadata": {
        "id": "0c5yABuYfXiW",
        "colab_type": "code",
        "colab": {}
      },
      "source": [
        "import itertools"
      ],
      "execution_count": 132,
      "outputs": []
    },
    {
      "cell_type": "code",
      "metadata": {
        "id": "YgCeZNQQfZpA",
        "colab_type": "code",
        "colab": {}
      },
      "source": [
        "scientists_by_field5 = {\n",
        "    item[0]: list(item[1])\n",
        "    for item in itertools.groupby(scientists, lambda x: x.field)\n",
        "}"
      ],
      "execution_count": 135,
      "outputs": []
    },
    {
      "cell_type": "code",
      "metadata": {
        "id": "bk8-uf9mfyjy",
        "colab_type": "code",
        "colab": {
          "base_uri": "https://localhost:8080/",
          "height": 125
        },
        "outputId": "fc8c1aba-22a0-4ade-da07-3a5d62c56d84"
      },
      "source": [
        "scientists_by_field5"
      ],
      "execution_count": 136,
      "outputs": [
        {
          "output_type": "execute_result",
          "data": {
            "text/plain": [
              "{'astronomy': [Scientist(name='Vera Rubin', field='astronomy', born=1928, nobel=False)],\n",
              " 'chemistry': [Scientist(name='Tu Youyou', field='chemistry', born=1930, nobel=True),\n",
              "  Scientist(name='Ada Yonath', field='chemistry', born=1939, nobel=True)],\n",
              " 'math': [Scientist(name='Ada Lovelace', field='math', born=1815, nobel=False),\n",
              "  Scientist(name='Emmy Noether', field='math', born=1882, nobel=False)],\n",
              " 'physics': [Scientist(name='Sally Ride', field='physics', born=1951, nobel=False)]}"
            ]
          },
          "metadata": {
            "tags": []
          },
          "execution_count": 136
        }
      ]
    }
  ]
}
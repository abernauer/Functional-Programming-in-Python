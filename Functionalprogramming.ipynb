{
  "nbformat": 4,
  "nbformat_minor": 0,
  "metadata": {
    "colab": {
      "name": "Functionalprogramming.ipynb",
      "provenance": [],
      "authorship_tag": "ABX9TyPGyUp7MkGbnorMKrZShe1/"
    },
    "kernelspec": {
      "name": "python3",
      "display_name": "Python 3"
    }
  },
  "cells": [
    {
      "cell_type": "markdown",
      "metadata": {
        "id": "HILYxURARnnu",
        "colab_type": "text"
      },
      "source": [
        "# Functional Programming in Python"
      ]
    },
    {
      "cell_type": "markdown",
      "metadata": {
        "id": "bEJMtvJPRvG1",
        "colab_type": "text"
      },
      "source": [
        "Style that uses immutable data structures and using the evaluation of mathematical functions."
      ]
    },
    {
      "cell_type": "markdown",
      "metadata": {
        "id": "uNSxvxkLTwIS",
        "colab_type": "text"
      },
      "source": [
        "Mutable data structure:"
      ]
    },
    {
      "cell_type": "code",
      "metadata": {
        "id": "2q3hJUj5Q3z2",
        "colab_type": "code",
        "colab": {}
      },
      "source": [
        "scientists = [\n",
        "        {'name': 'Ada Lovelace', 'field': 'math', 'born': 1815, 'nobel': False},\n",
        "        {'name': 'Emmy Noether', 'field': 'math', 'born': 1882, 'nobel': False},      \n",
        "]"
      ],
      "execution_count": 1,
      "outputs": []
    },
    {
      "cell_type": "code",
      "metadata": {
        "id": "D4C4vK4MSA1E",
        "colab_type": "code",
        "colab": {
          "base_uri": "https://localhost:8080/",
          "height": 53
        },
        "outputId": "930b0de9-20dd-4325-c721-32981679ce5e"
      },
      "source": [
        "scientists"
      ],
      "execution_count": 2,
      "outputs": [
        {
          "output_type": "execute_result",
          "data": {
            "text/plain": [
              "[{'born': 1815, 'field': 'math', 'name': 'Ada Lovelace', 'nobel': False},\n",
              " {'born': 1882, 'field': 'math', 'name': 'Emmy Noether', 'nobel': False}]"
            ]
          },
          "metadata": {
            "tags": []
          },
          "execution_count": 2
        }
      ]
    },
    {
      "cell_type": "code",
      "metadata": {
        "id": "cVIalwuSTcB9",
        "colab_type": "code",
        "colab": {}
      },
      "source": [
        "scientists[0]['name'] = 'Ed Lovelace'"
      ],
      "execution_count": 3,
      "outputs": []
    },
    {
      "cell_type": "code",
      "metadata": {
        "id": "dpV9tg-qTkxv",
        "colab_type": "code",
        "colab": {
          "base_uri": "https://localhost:8080/",
          "height": 53
        },
        "outputId": "15e399c7-d1a0-4367-8ec1-67aef50637b7"
      },
      "source": [
        "scientists"
      ],
      "execution_count": 4,
      "outputs": [
        {
          "output_type": "execute_result",
          "data": {
            "text/plain": [
              "[{'born': 1815, 'field': 'math', 'name': 'Ed Lovelace', 'nobel': False},\n",
              " {'born': 1882, 'field': 'math', 'name': 'Emmy Noether', 'nobel': False}]"
            ]
          },
          "metadata": {
            "tags": []
          },
          "execution_count": 4
        }
      ]
    },
    {
      "cell_type": "code",
      "metadata": {
        "id": "tGwXXmr_Tqzu",
        "colab_type": "code",
        "colab": {
          "base_uri": "https://localhost:8080/",
          "height": 35
        },
        "outputId": "68deb2e5-efa0-488d-f3b4-7f04b8f7a1fe"
      },
      "source": [
        "{'nime': 'Marie Curie', 'field': 'physics' }"
      ],
      "execution_count": 6,
      "outputs": [
        {
          "output_type": "execute_result",
          "data": {
            "text/plain": [
              "{'field': 'physics', 'nime': 'Marie Curie'}"
            ]
          },
          "metadata": {
            "tags": []
          },
          "execution_count": 6
        }
      ]
    },
    {
      "cell_type": "markdown",
      "metadata": {
        "id": "kE2KmkBkjyli",
        "colab_type": "text"
      },
      "source": [
        "# Immutable Data Structures"
      ]
    },
    {
      "cell_type": "code",
      "metadata": {
        "id": "ByYIFAcWj-qW",
        "colab_type": "code",
        "colab": {}
      },
      "source": [
        "import collections "
      ],
      "execution_count": 1,
      "outputs": []
    },
    {
      "cell_type": "markdown",
      "metadata": {
        "id": "DVU3MTUCnTSM",
        "colab_type": "text"
      },
      "source": [
        "Factory function below that creates a named tuple class."
      ]
    },
    {
      "cell_type": "code",
      "metadata": {
        "id": "AaGdyDG6m2ay",
        "colab_type": "code",
        "colab": {}
      },
      "source": [
        "Scientist = collections.namedtuple('Scientist', [\n",
        "       'name',\n",
        "       'field',\n",
        "       'born',\n",
        "       'nobel'\n",
        "])                                          "
      ],
      "execution_count": 2,
      "outputs": []
    },
    {
      "cell_type": "code",
      "metadata": {
        "id": "yX6t3s5xnhll",
        "colab_type": "code",
        "colab": {
          "base_uri": "https://localhost:8080/",
          "height": 35
        },
        "outputId": "8b60a6d2-9cae-4fd6-da18-9ec4b6d59615"
      },
      "source": [
        "Scientist"
      ],
      "execution_count": 3,
      "outputs": [
        {
          "output_type": "execute_result",
          "data": {
            "text/plain": [
              "__main__.Scientist"
            ]
          },
          "metadata": {
            "tags": []
          },
          "execution_count": 3
        }
      ]
    },
    {
      "cell_type": "code",
      "metadata": {
        "id": "88YUkLn_n4Rq",
        "colab_type": "code",
        "colab": {
          "base_uri": "https://localhost:8080/",
          "height": 35
        },
        "outputId": "8ac349c8-17d5-4cbe-c02d-493eb41d0137"
      },
      "source": [
        "Scientist(name='Ada Lovelace', field='math', born=1815, nobel=False)"
      ],
      "execution_count": 4,
      "outputs": [
        {
          "output_type": "execute_result",
          "data": {
            "text/plain": [
              "Scientist(name='Ada Lovelace', field='math', born=1815, nobel=False)"
            ]
          },
          "metadata": {
            "tags": []
          },
          "execution_count": 4
        }
      ]
    },
    {
      "cell_type": "code",
      "metadata": {
        "id": "chsURQ6soOIj",
        "colab_type": "code",
        "colab": {}
      },
      "source": [
        "ada = Scientist(name='Ada Lovelace', field='math', born=1815, nobel=False)"
      ],
      "execution_count": 5,
      "outputs": []
    },
    {
      "cell_type": "code",
      "metadata": {
        "id": "M2Z2U5L6oRpG",
        "colab_type": "code",
        "colab": {
          "base_uri": "https://localhost:8080/",
          "height": 35
        },
        "outputId": "1d0302f2-0740-48fc-d7e5-adf0db792f30"
      },
      "source": [
        "ada.name"
      ],
      "execution_count": 6,
      "outputs": [
        {
          "output_type": "execute_result",
          "data": {
            "application/vnd.google.colaboratory.intrinsic+json": {
              "type": "string"
            },
            "text/plain": [
              "'Ada Lovelace'"
            ]
          },
          "metadata": {
            "tags": []
          },
          "execution_count": 6
        }
      ]
    },
    {
      "cell_type": "code",
      "metadata": {
        "id": "KnqZo7floUhl",
        "colab_type": "code",
        "colab": {
          "base_uri": "https://localhost:8080/",
          "height": 35
        },
        "outputId": "e901868c-986d-44cb-c785-ac7169f5091c"
      },
      "source": [
        "ada.field"
      ],
      "execution_count": 7,
      "outputs": [
        {
          "output_type": "execute_result",
          "data": {
            "application/vnd.google.colaboratory.intrinsic+json": {
              "type": "string"
            },
            "text/plain": [
              "'math'"
            ]
          },
          "metadata": {
            "tags": []
          },
          "execution_count": 7
        }
      ]
    },
    {
      "cell_type": "code",
      "metadata": {
        "id": "mmpkIWMaoYqQ",
        "colab_type": "code",
        "colab": {
          "base_uri": "https://localhost:8080/",
          "height": 172
        },
        "outputId": "2fdeb209-a8ff-4b51-bf1f-f3e473a38754"
      },
      "source": [
        "ada.name = 'Ed Lovelace'"
      ],
      "execution_count": 8,
      "outputs": [
        {
          "output_type": "error",
          "ename": "AttributeError",
          "evalue": "ignored",
          "traceback": [
            "\u001b[0;31m---------------------------------------------------------------------------\u001b[0m",
            "\u001b[0;31mAttributeError\u001b[0m                            Traceback (most recent call last)",
            "\u001b[0;32m<ipython-input-8-e900d367367a>\u001b[0m in \u001b[0;36m<module>\u001b[0;34m()\u001b[0m\n\u001b[0;32m----> 1\u001b[0;31m \u001b[0mada\u001b[0m\u001b[0;34m.\u001b[0m\u001b[0mname\u001b[0m \u001b[0;34m=\u001b[0m \u001b[0;34m'Ed Lovelace'\u001b[0m\u001b[0;34m\u001b[0m\u001b[0;34m\u001b[0m\u001b[0m\n\u001b[0m",
            "\u001b[0;31mAttributeError\u001b[0m: can't set attribute"
          ]
        }
      ]
    },
    {
      "cell_type": "markdown",
      "metadata": {
        "id": "PavIAM57okbo",
        "colab_type": "text"
      },
      "source": [
        "## Danger Zone: Mixing Mutable and Immutable Data Structures"
      ]
    },
    {
      "cell_type": "code",
      "metadata": {
        "id": "7nahW3dTpqSK",
        "colab_type": "code",
        "colab": {}
      },
      "source": [
        "scientists = [\n",
        "    Scientist(name='Ada Lovelace', field='math', born=1815, nobel=False),\n",
        "    Scientist(name='Emmy Noether', field='math', born=1882, nobel=False),          \n",
        "]"
      ],
      "execution_count": 9,
      "outputs": []
    },
    {
      "cell_type": "code",
      "metadata": {
        "id": "vuG8aGGwqMxu",
        "colab_type": "code",
        "colab": {
          "base_uri": "https://localhost:8080/",
          "height": 53
        },
        "outputId": "6dbb753e-7baa-4a1f-d15e-b28d948bbe84"
      },
      "source": [
        "scientists"
      ],
      "execution_count": 10,
      "outputs": [
        {
          "output_type": "execute_result",
          "data": {
            "text/plain": [
              "[Scientist(name='Ada Lovelace', field='math', born=1815, nobel=False),\n",
              " Scientist(name='Emmy Noether', field='math', born=1882, nobel=False)]"
            ]
          },
          "metadata": {
            "tags": []
          },
          "execution_count": 10
        }
      ]
    },
    {
      "cell_type": "code",
      "metadata": {
        "id": "fjXlCmhLqQht",
        "colab_type": "code",
        "colab": {}
      },
      "source": [
        "from pprint import pprint"
      ],
      "execution_count": 11,
      "outputs": []
    },
    {
      "cell_type": "code",
      "metadata": {
        "id": "PB-awkpRqVMo",
        "colab_type": "code",
        "colab": {
          "base_uri": "https://localhost:8080/",
          "height": 53
        },
        "outputId": "8244118b-b1b4-49db-a337-407690cc9d16"
      },
      "source": [
        "pprint(scientists)"
      ],
      "execution_count": 12,
      "outputs": [
        {
          "output_type": "stream",
          "text": [
            "[Scientist(name='Ada Lovelace', field='math', born=1815, nobel=False),\n",
            " Scientist(name='Emmy Noether', field='math', born=1882, nobel=False)]\n"
          ],
          "name": "stdout"
        }
      ]
    },
    {
      "cell_type": "code",
      "metadata": {
        "id": "lgC2Yd_zqdbi",
        "colab_type": "code",
        "colab": {
          "base_uri": "https://localhost:8080/",
          "height": 172
        },
        "outputId": "c913cc2b-ea22-414f-8a5e-5260b99368c4"
      },
      "source": [
        "scientists[0].name = 'Ed Lovelace'"
      ],
      "execution_count": 13,
      "outputs": [
        {
          "output_type": "error",
          "ename": "AttributeError",
          "evalue": "ignored",
          "traceback": [
            "\u001b[0;31m---------------------------------------------------------------------------\u001b[0m",
            "\u001b[0;31mAttributeError\u001b[0m                            Traceback (most recent call last)",
            "\u001b[0;32m<ipython-input-13-54c7a3e0374d>\u001b[0m in \u001b[0;36m<module>\u001b[0;34m()\u001b[0m\n\u001b[0;32m----> 1\u001b[0;31m \u001b[0mscientists\u001b[0m\u001b[0;34m[\u001b[0m\u001b[0;36m0\u001b[0m\u001b[0;34m]\u001b[0m\u001b[0;34m.\u001b[0m\u001b[0mname\u001b[0m \u001b[0;34m=\u001b[0m \u001b[0;34m'Ed Lovelace'\u001b[0m\u001b[0;34m\u001b[0m\u001b[0;34m\u001b[0m\u001b[0m\n\u001b[0m",
            "\u001b[0;31mAttributeError\u001b[0m: can't set attribute"
          ]
        }
      ]
    },
    {
      "cell_type": "code",
      "metadata": {
        "id": "UwEDfXFxqlZi",
        "colab_type": "code",
        "colab": {}
      },
      "source": [
        "del scientists[0]"
      ],
      "execution_count": 14,
      "outputs": []
    },
    {
      "cell_type": "code",
      "metadata": {
        "id": "WL2LuJ0bqrPo",
        "colab_type": "code",
        "colab": {
          "base_uri": "https://localhost:8080/",
          "height": 35
        },
        "outputId": "ad7fc5f1-d714-4980-9deb-64ddbce5e892"
      },
      "source": [
        "scientists"
      ],
      "execution_count": 15,
      "outputs": [
        {
          "output_type": "execute_result",
          "data": {
            "text/plain": [
              "[Scientist(name='Emmy Noether', field='math', born=1882, nobel=False)]"
            ]
          },
          "metadata": {
            "tags": []
          },
          "execution_count": 15
        }
      ]
    },
    {
      "cell_type": "markdown",
      "metadata": {
        "id": "gUQdJl82qucU",
        "colab_type": "text"
      },
      "source": [
        "Defined immutable items in a mutable data stucture."
      ]
    },
    {
      "cell_type": "markdown",
      "metadata": {
        "id": "q3hOw84Nq314",
        "colab_type": "text"
      },
      "source": [
        "# Immutable Data Structures: Tuples"
      ]
    },
    {
      "cell_type": "code",
      "metadata": {
        "id": "POcbEqvfrck6",
        "colab_type": "code",
        "colab": {}
      },
      "source": [
        "scientists = (\n",
        "    Scientist(name='Ada Lovelace', field='math', born=1815, nobel=False),\n",
        "    Scientist(name='Emmy Noether', field='math', born=1882, nobel=False),\n",
        "    Scientist(name='Marie Curie', field='physics', born=1867, nobel=True),\n",
        "    Scientist(name='Tu Youyou', field='chemistry', born=1930, nobel=True),\n",
        "    Scientist(name='Ada Yonath', field='chemistry', born=1939, nobel=True),\n",
        "    Scientist(name='Sally Ride', field='physics', born=1951, nobel=False)\n",
        ")"
      ],
      "execution_count": 16,
      "outputs": []
    },
    {
      "cell_type": "code",
      "metadata": {
        "id": "ubFp5U-4uTA7",
        "colab_type": "code",
        "colab": {
          "base_uri": "https://localhost:8080/",
          "height": 125
        },
        "outputId": "1e742eed-4b48-4394-da9b-6b46fda00318"
      },
      "source": [
        "scientists"
      ],
      "execution_count": 17,
      "outputs": [
        {
          "output_type": "execute_result",
          "data": {
            "text/plain": [
              "(Scientist(name='Ada Lovelace', field='math', born=1815, nobel=False),\n",
              " Scientist(name='Emmy Noether', field='math', born=1882, nobel=False),\n",
              " Scientist(name='Marie Curie', field='physics', born=1867, nobel=True),\n",
              " Scientist(name='Tu Youyou', field='chemistry', born=1930, nobel=True),\n",
              " Scientist(name='Ada Yonath', field='chemistry', born=1939, nobel=True),\n",
              " Scientist(name='Sally Ride', field='physics', born=1951, nobel=False))"
            ]
          },
          "metadata": {
            "tags": []
          },
          "execution_count": 17
        }
      ]
    },
    {
      "cell_type": "code",
      "metadata": {
        "id": "ZwiF2FWVuWOW",
        "colab_type": "code",
        "colab": {
          "base_uri": "https://localhost:8080/",
          "height": 125
        },
        "outputId": "a71fe785-9f10-492d-b13e-d7474d1d41a5"
      },
      "source": [
        "pprint(scientists)"
      ],
      "execution_count": 18,
      "outputs": [
        {
          "output_type": "stream",
          "text": [
            "(Scientist(name='Ada Lovelace', field='math', born=1815, nobel=False),\n",
            " Scientist(name='Emmy Noether', field='math', born=1882, nobel=False),\n",
            " Scientist(name='Marie Curie', field='physics', born=1867, nobel=True),\n",
            " Scientist(name='Tu Youyou', field='chemistry', born=1930, nobel=True),\n",
            " Scientist(name='Ada Yonath', field='chemistry', born=1939, nobel=True),\n",
            " Scientist(name='Sally Ride', field='physics', born=1951, nobel=False))\n"
          ],
          "name": "stdout"
        }
      ]
    },
    {
      "cell_type": "code",
      "metadata": {
        "id": "1UXDsGgSuex-",
        "colab_type": "code",
        "colab": {
          "base_uri": "https://localhost:8080/",
          "height": 172
        },
        "outputId": "6efb0918-c5d1-4092-c60b-7c1ecefca819"
      },
      "source": [
        "del scientists[0]"
      ],
      "execution_count": 19,
      "outputs": [
        {
          "output_type": "error",
          "ename": "TypeError",
          "evalue": "ignored",
          "traceback": [
            "\u001b[0;31m---------------------------------------------------------------------------\u001b[0m",
            "\u001b[0;31mTypeError\u001b[0m                                 Traceback (most recent call last)",
            "\u001b[0;32m<ipython-input-19-e857c6f27cff>\u001b[0m in \u001b[0;36m<module>\u001b[0;34m()\u001b[0m\n\u001b[0;32m----> 1\u001b[0;31m \u001b[0;32mdel\u001b[0m \u001b[0mscientists\u001b[0m\u001b[0;34m[\u001b[0m\u001b[0;36m0\u001b[0m\u001b[0;34m]\u001b[0m\u001b[0;34m\u001b[0m\u001b[0;34m\u001b[0m\u001b[0m\n\u001b[0m",
            "\u001b[0;31mTypeError\u001b[0m: 'tuple' object doesn't support item deletion"
          ]
        }
      ]
    },
    {
      "cell_type": "code",
      "metadata": {
        "id": "D8GBbTXduirI",
        "colab_type": "code",
        "colab": {
          "base_uri": "https://localhost:8080/",
          "height": 35
        },
        "outputId": "b9928d24-d5f5-4c3b-9936-7a652bd4ce8c"
      },
      "source": [
        "scientists[0].name"
      ],
      "execution_count": 20,
      "outputs": [
        {
          "output_type": "execute_result",
          "data": {
            "application/vnd.google.colaboratory.intrinsic+json": {
              "type": "string"
            },
            "text/plain": [
              "'Ada Lovelace'"
            ]
          },
          "metadata": {
            "tags": []
          },
          "execution_count": 20
        }
      ]
    },
    {
      "cell_type": "code",
      "metadata": {
        "id": "OYNw1LpDupFm",
        "colab_type": "code",
        "colab": {
          "base_uri": "https://localhost:8080/",
          "height": 125
        },
        "outputId": "15a170d1-a035-4285-850b-33bc69bbad80"
      },
      "source": [
        "pprint(scientists)"
      ],
      "execution_count": 21,
      "outputs": [
        {
          "output_type": "stream",
          "text": [
            "(Scientist(name='Ada Lovelace', field='math', born=1815, nobel=False),\n",
            " Scientist(name='Emmy Noether', field='math', born=1882, nobel=False),\n",
            " Scientist(name='Marie Curie', field='physics', born=1867, nobel=True),\n",
            " Scientist(name='Tu Youyou', field='chemistry', born=1930, nobel=True),\n",
            " Scientist(name='Ada Yonath', field='chemistry', born=1939, nobel=True),\n",
            " Scientist(name='Sally Ride', field='physics', born=1951, nobel=False))\n"
          ],
          "name": "stdout"
        }
      ]
    },
    {
      "cell_type": "markdown",
      "metadata": {
        "id": "gdoVxUrcvUbI",
        "colab_type": "text"
      },
      "source": [
        "## The filter function"
      ]
    },
    {
      "cell_type": "markdown",
      "metadata": {
        "id": "N8Q8q94ex-s7",
        "colab_type": "text"
      },
      "source": [
        "The filter function is a primitive that is built into the language. "
      ]
    },
    {
      "cell_type": "code",
      "metadata": {
        "id": "-qOMzR9MvYyX",
        "colab_type": "code",
        "colab": {
          "base_uri": "https://localhost:8080/",
          "height": 35
        },
        "outputId": "2264e8b3-a471-4e19-ad4d-295aaff75f3e"
      },
      "source": [
        "filter(lambda x: x.nobel is True, scientists)"
      ],
      "execution_count": 22,
      "outputs": [
        {
          "output_type": "execute_result",
          "data": {
            "text/plain": [
              "<filter at 0x7ff6f08bd5c0>"
            ]
          },
          "metadata": {
            "tags": []
          },
          "execution_count": 22
        }
      ]
    },
    {
      "cell_type": "code",
      "metadata": {
        "id": "xR08JLiNv0Jw",
        "colab_type": "code",
        "colab": {}
      },
      "source": [
        "fs = filter(lambda x: x.nobel is True, scientists)"
      ],
      "execution_count": 23,
      "outputs": []
    },
    {
      "cell_type": "code",
      "metadata": {
        "id": "P6xo3OPvv7Kf",
        "colab_type": "code",
        "colab": {
          "base_uri": "https://localhost:8080/",
          "height": 35
        },
        "outputId": "099ff0a9-04e1-4ffd-f40d-680107033804"
      },
      "source": [
        "next(fs)"
      ],
      "execution_count": 24,
      "outputs": [
        {
          "output_type": "execute_result",
          "data": {
            "text/plain": [
              "Scientist(name='Marie Curie', field='physics', born=1867, nobel=True)"
            ]
          },
          "metadata": {
            "tags": []
          },
          "execution_count": 24
        }
      ]
    },
    {
      "cell_type": "code",
      "metadata": {
        "id": "Mxckz286wC_K",
        "colab_type": "code",
        "colab": {
          "base_uri": "https://localhost:8080/",
          "height": 35
        },
        "outputId": "1f6a4286-0886-40fc-ba09-4274b7d4e10d"
      },
      "source": [
        "next(fs)"
      ],
      "execution_count": 25,
      "outputs": [
        {
          "output_type": "execute_result",
          "data": {
            "text/plain": [
              "Scientist(name='Tu Youyou', field='chemistry', born=1930, nobel=True)"
            ]
          },
          "metadata": {
            "tags": []
          },
          "execution_count": 25
        }
      ]
    },
    {
      "cell_type": "code",
      "metadata": {
        "id": "MTr6eiGywFlK",
        "colab_type": "code",
        "colab": {
          "base_uri": "https://localhost:8080/",
          "height": 35
        },
        "outputId": "fa356a84-2c5b-450a-dd8d-90a7dcfc76e0"
      },
      "source": [
        "next(fs)"
      ],
      "execution_count": 26,
      "outputs": [
        {
          "output_type": "execute_result",
          "data": {
            "text/plain": [
              "Scientist(name='Ada Yonath', field='chemistry', born=1939, nobel=True)"
            ]
          },
          "metadata": {
            "tags": []
          },
          "execution_count": 26
        }
      ]
    },
    {
      "cell_type": "code",
      "metadata": {
        "id": "uVxrLgx5wH_9",
        "colab_type": "code",
        "colab": {
          "base_uri": "https://localhost:8080/",
          "height": 172
        },
        "outputId": "31e61b59-8dc0-45ad-f976-54a40127846b"
      },
      "source": [
        "next(fs)"
      ],
      "execution_count": 27,
      "outputs": [
        {
          "output_type": "error",
          "ename": "StopIteration",
          "evalue": "ignored",
          "traceback": [
            "\u001b[0;31m---------------------------------------------------------------------------\u001b[0m",
            "\u001b[0;31mStopIteration\u001b[0m                             Traceback (most recent call last)",
            "\u001b[0;32m<ipython-input-27-cc337a681289>\u001b[0m in \u001b[0;36m<module>\u001b[0;34m()\u001b[0m\n\u001b[0;32m----> 1\u001b[0;31m \u001b[0mnext\u001b[0m\u001b[0;34m(\u001b[0m\u001b[0mfs\u001b[0m\u001b[0;34m)\u001b[0m\u001b[0;34m\u001b[0m\u001b[0;34m\u001b[0m\u001b[0m\n\u001b[0m",
            "\u001b[0;31mStopIteration\u001b[0m: "
          ]
        }
      ]
    },
    {
      "cell_type": "code",
      "metadata": {
        "id": "4msLYIJ3yRnC",
        "colab_type": "code",
        "colab": {
          "base_uri": "https://localhost:8080/",
          "height": 71
        },
        "outputId": "709bbd18-5e4f-4299-817d-a7167705b932"
      },
      "source": [
        "tuple(filter(lambda x: x.nobel is True, scientists))"
      ],
      "execution_count": 28,
      "outputs": [
        {
          "output_type": "execute_result",
          "data": {
            "text/plain": [
              "(Scientist(name='Marie Curie', field='physics', born=1867, nobel=True),\n",
              " Scientist(name='Tu Youyou', field='chemistry', born=1930, nobel=True),\n",
              " Scientist(name='Ada Yonath', field='chemistry', born=1939, nobel=True))"
            ]
          },
          "metadata": {
            "tags": []
          },
          "execution_count": 28
        }
      ]
    },
    {
      "cell_type": "code",
      "metadata": {
        "id": "-EfA3YvnybYy",
        "colab_type": "code",
        "colab": {}
      },
      "source": [
        "fs = tuple(filter(lambda x: x.nobel is True, scientists))"
      ],
      "execution_count": 31,
      "outputs": []
    },
    {
      "cell_type": "code",
      "metadata": {
        "id": "7VEF6nfFypGA",
        "colab_type": "code",
        "colab": {
          "base_uri": "https://localhost:8080/",
          "height": 71
        },
        "outputId": "963c9f79-e723-43c8-e86e-5b11462e220a"
      },
      "source": [
        "pprint(fs)"
      ],
      "execution_count": 32,
      "outputs": [
        {
          "output_type": "stream",
          "text": [
            "(Scientist(name='Marie Curie', field='physics', born=1867, nobel=True),\n",
            " Scientist(name='Tu Youyou', field='chemistry', born=1930, nobel=True),\n",
            " Scientist(name='Ada Yonath', field='chemistry', born=1939, nobel=True))\n"
          ],
          "name": "stdout"
        }
      ]
    },
    {
      "cell_type": "markdown",
      "metadata": {
        "id": "OLtEOlkgyzB6",
        "colab_type": "text"
      },
      "source": [
        "The **filter** function allows us to a apply a function over an iterable of things. Then return a new collection with the met condition."
      ]
    },
    {
      "cell_type": "code",
      "metadata": {
        "id": "gXbA8nF9zMIk",
        "colab_type": "code",
        "colab": {
          "base_uri": "https://localhost:8080/",
          "height": 125
        },
        "outputId": "65a287a9-26ef-4977-d451-502919f536a3"
      },
      "source": [
        "pprint(tuple(filter(lambda x: True, scientists)))"
      ],
      "execution_count": 33,
      "outputs": [
        {
          "output_type": "stream",
          "text": [
            "(Scientist(name='Ada Lovelace', field='math', born=1815, nobel=False),\n",
            " Scientist(name='Emmy Noether', field='math', born=1882, nobel=False),\n",
            " Scientist(name='Marie Curie', field='physics', born=1867, nobel=True),\n",
            " Scientist(name='Tu Youyou', field='chemistry', born=1930, nobel=True),\n",
            " Scientist(name='Ada Yonath', field='chemistry', born=1939, nobel=True),\n",
            " Scientist(name='Sally Ride', field='physics', born=1951, nobel=False))\n"
          ],
          "name": "stdout"
        }
      ]
    },
    {
      "cell_type": "code",
      "metadata": {
        "id": "jEO7XBuwzV5k",
        "colab_type": "code",
        "colab": {
          "base_uri": "https://localhost:8080/",
          "height": 53
        },
        "outputId": "0df0d648-9001-4a0e-ec8a-bb8be08dd06e"
      },
      "source": [
        "pprint(tuple(filter(lambda x: x.field == 'physics', scientists)))"
      ],
      "execution_count": 34,
      "outputs": [
        {
          "output_type": "stream",
          "text": [
            "(Scientist(name='Marie Curie', field='physics', born=1867, nobel=True),\n",
            " Scientist(name='Sally Ride', field='physics', born=1951, nobel=False))\n"
          ],
          "name": "stdout"
        }
      ]
    },
    {
      "cell_type": "code",
      "metadata": {
        "id": "mu1ZXVk-zf5C",
        "colab_type": "code",
        "colab": {
          "base_uri": "https://localhost:8080/",
          "height": 35
        },
        "outputId": "911fd0b6-a831-421e-ab96-dd5ae9ebd171"
      },
      "source": [
        "pprint(tuple(filter(lambda x: x.field == 'physics' and x.nobel, scientists)))"
      ],
      "execution_count": 35,
      "outputs": [
        {
          "output_type": "stream",
          "text": [
            "(Scientist(name='Marie Curie', field='physics', born=1867, nobel=True),)\n"
          ],
          "name": "stdout"
        }
      ]
    },
    {
      "cell_type": "markdown",
      "metadata": {
        "id": "cJy06tMW0ItG",
        "colab_type": "text"
      },
      "source": [
        "The advantage of the functional approach is it is declarative and allows for chaining."
      ]
    },
    {
      "cell_type": "code",
      "metadata": {
        "id": "Scx5n_Uxz94h",
        "colab_type": "code",
        "colab": {
          "base_uri": "https://localhost:8080/",
          "height": 71
        },
        "outputId": "a4123cb5-dc20-4306-8f8c-26e31cf85314"
      },
      "source": [
        "for x in scientists:\n",
        "    if x.nobel is True:\n",
        "        print(x)"
      ],
      "execution_count": 36,
      "outputs": [
        {
          "output_type": "stream",
          "text": [
            "Scientist(name='Marie Curie', field='physics', born=1867, nobel=True)\n",
            "Scientist(name='Tu Youyou', field='chemistry', born=1930, nobel=True)\n",
            "Scientist(name='Ada Yonath', field='chemistry', born=1939, nobel=True)\n"
          ],
          "name": "stdout"
        }
      ]
    },
    {
      "cell_type": "code",
      "metadata": {
        "id": "ZLw91pzZ0TDW",
        "colab_type": "code",
        "colab": {}
      },
      "source": [
        "def nobel_filter(x):\n",
        "    return x.nobel is True"
      ],
      "execution_count": 37,
      "outputs": []
    },
    {
      "cell_type": "code",
      "metadata": {
        "id": "FGzHbPOd0iHO",
        "colab_type": "code",
        "colab": {
          "base_uri": "https://localhost:8080/",
          "height": 71
        },
        "outputId": "b0c729ba-d7b6-4a9f-a062-9a2486d1a4f0"
      },
      "source": [
        "pprint(tuple(filter(nobel_filter, scientists)))"
      ],
      "execution_count": 38,
      "outputs": [
        {
          "output_type": "stream",
          "text": [
            "(Scientist(name='Marie Curie', field='physics', born=1867, nobel=True),\n",
            " Scientist(name='Tu Youyou', field='chemistry', born=1930, nobel=True),\n",
            " Scientist(name='Ada Yonath', field='chemistry', born=1939, nobel=True))\n"
          ],
          "name": "stdout"
        }
      ]
    },
    {
      "cell_type": "markdown",
      "metadata": {
        "id": "N5SDzBbr1Rad",
        "colab_type": "text"
      },
      "source": [
        "## Filtering List Comprehensions"
      ]
    },
    {
      "cell_type": "code",
      "metadata": {
        "id": "vreX6kYh1KVi",
        "colab_type": "code",
        "colab": {
          "base_uri": "https://localhost:8080/",
          "height": 71
        },
        "outputId": "fb924683-968e-4c61-f4da-09e31212e674"
      },
      "source": [
        "[x for x in scientists if x.nobel is True]"
      ],
      "execution_count": 40,
      "outputs": [
        {
          "output_type": "execute_result",
          "data": {
            "text/plain": [
              "[Scientist(name='Marie Curie', field='physics', born=1867, nobel=True),\n",
              " Scientist(name='Tu Youyou', field='chemistry', born=1930, nobel=True),\n",
              " Scientist(name='Ada Yonath', field='chemistry', born=1939, nobel=True)]"
            ]
          },
          "metadata": {
            "tags": []
          },
          "execution_count": 40
        }
      ]
    },
    {
      "cell_type": "code",
      "metadata": {
        "id": "5Ps4CbDM1ttH",
        "colab_type": "code",
        "colab": {
          "base_uri": "https://localhost:8080/",
          "height": 71
        },
        "outputId": "8f84bb22-f9e8-428e-cefb-72f44f62bfbb"
      },
      "source": [
        "pprint([x for x in scientists if x.nobel is True])"
      ],
      "execution_count": 41,
      "outputs": [
        {
          "output_type": "stream",
          "text": [
            "[Scientist(name='Marie Curie', field='physics', born=1867, nobel=True),\n",
            " Scientist(name='Tu Youyou', field='chemistry', born=1930, nobel=True),\n",
            " Scientist(name='Ada Yonath', field='chemistry', born=1939, nobel=True)]\n"
          ],
          "name": "stdout"
        }
      ]
    },
    {
      "cell_type": "code",
      "metadata": {
        "id": "8i72QsEG1wGv",
        "colab_type": "code",
        "colab": {
          "base_uri": "https://localhost:8080/",
          "height": 71
        },
        "outputId": "0f7471e7-f1d2-4f48-e863-1614ad7a2f12"
      },
      "source": [
        "pprint(tuple([x for x in scientists if x.nobel is True]))"
      ],
      "execution_count": 42,
      "outputs": [
        {
          "output_type": "stream",
          "text": [
            "(Scientist(name='Marie Curie', field='physics', born=1867, nobel=True),\n",
            " Scientist(name='Tu Youyou', field='chemistry', born=1930, nobel=True),\n",
            " Scientist(name='Ada Yonath', field='chemistry', born=1939, nobel=True))\n"
          ],
          "name": "stdout"
        }
      ]
    },
    {
      "cell_type": "markdown",
      "metadata": {
        "id": "jiEeJggK186T",
        "colab_type": "text"
      },
      "source": [
        "Getting rid of the list comphrension yields a generator expression. Which is more efficient."
      ]
    },
    {
      "cell_type": "code",
      "metadata": {
        "colab_type": "code",
        "id": "dfEFOH6F2SsA",
        "colab": {
          "base_uri": "https://localhost:8080/",
          "height": 71
        },
        "outputId": "f2ee7140-cff6-46b1-c312-59779e25f589"
      },
      "source": [
        "pprint(tuple(x for x in scientists if x.nobel is True))"
      ],
      "execution_count": 43,
      "outputs": [
        {
          "output_type": "stream",
          "text": [
            "(Scientist(name='Marie Curie', field='physics', born=1867, nobel=True),\n",
            " Scientist(name='Tu Youyou', field='chemistry', born=1930, nobel=True),\n",
            " Scientist(name='Ada Yonath', field='chemistry', born=1939, nobel=True))\n"
          ],
          "name": "stdout"
        }
      ]
    },
    {
      "cell_type": "code",
      "metadata": {
        "id": "vOrERH312dtg",
        "colab_type": "code",
        "colab": {
          "base_uri": "https://localhost:8080/",
          "height": 35
        },
        "outputId": "815a3d0a-e7a4-40a8-fade-ea1d2955777c"
      },
      "source": [
        "tuple([1,2,3])"
      ],
      "execution_count": 44,
      "outputs": [
        {
          "output_type": "execute_result",
          "data": {
            "text/plain": [
              "(1, 2, 3)"
            ]
          },
          "metadata": {
            "tags": []
          },
          "execution_count": 44
        }
      ]
    }
  ]
}
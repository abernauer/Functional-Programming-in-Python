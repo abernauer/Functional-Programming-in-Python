{
  "nbformat": 4,
  "nbformat_minor": 0,
  "metadata": {
    "colab": {
      "name": "Functionalprogramming.ipynb",
      "provenance": [],
      "authorship_tag": "ABX9TyP5IfuTLET/F+LZcSM91wZ7"
    },
    "kernelspec": {
      "name": "python3",
      "display_name": "Python 3"
    }
  },
  "cells": [
    {
      "cell_type": "markdown",
      "metadata": {
        "id": "HILYxURARnnu",
        "colab_type": "text"
      },
      "source": [
        "# Functional Programming in Python"
      ]
    },
    {
      "cell_type": "markdown",
      "metadata": {
        "id": "bEJMtvJPRvG1",
        "colab_type": "text"
      },
      "source": [
        "Style that uses immutable data structures and using the evaluation of mathematical functions."
      ]
    },
    {
      "cell_type": "markdown",
      "metadata": {
        "id": "uNSxvxkLTwIS",
        "colab_type": "text"
      },
      "source": [
        "Mutable data structure:"
      ]
    },
    {
      "cell_type": "code",
      "metadata": {
        "id": "2q3hJUj5Q3z2",
        "colab_type": "code",
        "colab": {}
      },
      "source": [
        "scientists = [\n",
        "        {'name': 'Ada Lovelace', 'field': 'math', 'born': 1815, 'nobel': False},\n",
        "        {'name': 'Emmy Noether', 'field': 'math', 'born': 1882, 'nobel': False},      \n",
        "]"
      ],
      "execution_count": 1,
      "outputs": []
    },
    {
      "cell_type": "code",
      "metadata": {
        "id": "D4C4vK4MSA1E",
        "colab_type": "code",
        "colab": {
          "base_uri": "https://localhost:8080/",
          "height": 53
        },
        "outputId": "930b0de9-20dd-4325-c721-32981679ce5e"
      },
      "source": [
        "scientists"
      ],
      "execution_count": 2,
      "outputs": [
        {
          "output_type": "execute_result",
          "data": {
            "text/plain": [
              "[{'born': 1815, 'field': 'math', 'name': 'Ada Lovelace', 'nobel': False},\n",
              " {'born': 1882, 'field': 'math', 'name': 'Emmy Noether', 'nobel': False}]"
            ]
          },
          "metadata": {
            "tags": []
          },
          "execution_count": 2
        }
      ]
    },
    {
      "cell_type": "code",
      "metadata": {
        "id": "cVIalwuSTcB9",
        "colab_type": "code",
        "colab": {}
      },
      "source": [
        "scientists[0]['name'] = 'Ed Lovelace'"
      ],
      "execution_count": 3,
      "outputs": []
    },
    {
      "cell_type": "code",
      "metadata": {
        "id": "dpV9tg-qTkxv",
        "colab_type": "code",
        "colab": {
          "base_uri": "https://localhost:8080/",
          "height": 53
        },
        "outputId": "15e399c7-d1a0-4367-8ec1-67aef50637b7"
      },
      "source": [
        "scientists"
      ],
      "execution_count": 4,
      "outputs": [
        {
          "output_type": "execute_result",
          "data": {
            "text/plain": [
              "[{'born': 1815, 'field': 'math', 'name': 'Ed Lovelace', 'nobel': False},\n",
              " {'born': 1882, 'field': 'math', 'name': 'Emmy Noether', 'nobel': False}]"
            ]
          },
          "metadata": {
            "tags": []
          },
          "execution_count": 4
        }
      ]
    },
    {
      "cell_type": "code",
      "metadata": {
        "id": "tGwXXmr_Tqzu",
        "colab_type": "code",
        "colab": {
          "base_uri": "https://localhost:8080/",
          "height": 35
        },
        "outputId": "68deb2e5-efa0-488d-f3b4-7f04b8f7a1fe"
      },
      "source": [
        "{'nime': 'Marie Curie', 'field': 'physics' }"
      ],
      "execution_count": 6,
      "outputs": [
        {
          "output_type": "execute_result",
          "data": {
            "text/plain": [
              "{'field': 'physics', 'nime': 'Marie Curie'}"
            ]
          },
          "metadata": {
            "tags": []
          },
          "execution_count": 6
        }
      ]
    },
    {
      "cell_type": "markdown",
      "metadata": {
        "id": "kE2KmkBkjyli",
        "colab_type": "text"
      },
      "source": [
        "# Immutable Data Structures"
      ]
    },
    {
      "cell_type": "code",
      "metadata": {
        "id": "ByYIFAcWj-qW",
        "colab_type": "code",
        "colab": {}
      },
      "source": [
        ""
      ],
      "execution_count": null,
      "outputs": []
    }
  ]
}
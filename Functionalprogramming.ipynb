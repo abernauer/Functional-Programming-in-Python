{
  "nbformat": 4,
  "nbformat_minor": 0,
  "metadata": {
    "colab": {
      "name": "Functionalprogramming.ipynb",
      "provenance": [],
      "authorship_tag": "ABX9TyM//pJOrfKzSFwsT3Qw//CN",
      "include_colab_link": true
    },
    "kernelspec": {
      "name": "python3",
      "display_name": "Python 3"
    }
  },
  "cells": [
    {
      "cell_type": "markdown",
      "metadata": {
        "id": "view-in-github",
        "colab_type": "text"
      },
      "source": [
        "<a href=\"https://colab.research.google.com/github/abernauer/Functional-Programming-in-Python/blob/master/Functionalprogramming.ipynb\" target=\"_parent\"><img src=\"https://colab.research.google.com/assets/colab-badge.svg\" alt=\"Open In Colab\"/></a>"
      ]
    },
    {
      "cell_type": "markdown",
      "metadata": {
        "id": "HILYxURARnnu",
        "colab_type": "text"
      },
      "source": [
        "# Functional Programming in Python"
      ]
    },
    {
      "cell_type": "markdown",
      "metadata": {
        "id": "bEJMtvJPRvG1",
        "colab_type": "text"
      },
      "source": [
        "Style that uses immutable data structures and using the evaluation of mathematical functions."
      ]
    },
    {
      "cell_type": "markdown",
      "metadata": {
        "id": "uNSxvxkLTwIS",
        "colab_type": "text"
      },
      "source": [
        "Mutable data structure:"
      ]
    },
    {
      "cell_type": "code",
      "metadata": {
        "id": "2q3hJUj5Q3z2",
        "colab_type": "code",
        "colab": {}
      },
      "source": [
        "scientists = [\n",
        "        {'name': 'Ada Lovelace', 'field': 'math', 'born': 1815, 'nobel': False},\n",
        "        {'name': 'Emmy Noether', 'field': 'math', 'born': 1882, 'nobel': False},      \n",
        "]"
      ],
      "execution_count": 90,
      "outputs": []
    },
    {
      "cell_type": "code",
      "metadata": {
        "id": "D4C4vK4MSA1E",
        "colab_type": "code",
        "colab": {
          "base_uri": "https://localhost:8080/",
          "height": 53
        },
        "outputId": "df2faa4e-513e-43cb-f849-cfda854ec608"
      },
      "source": [
        "scientists"
      ],
      "execution_count": 91,
      "outputs": [
        {
          "output_type": "execute_result",
          "data": {
            "text/plain": [
              "[{'born': 1815, 'field': 'math', 'name': 'Ada Lovelace', 'nobel': False},\n",
              " {'born': 1882, 'field': 'math', 'name': 'Emmy Noether', 'nobel': False}]"
            ]
          },
          "metadata": {
            "tags": []
          },
          "execution_count": 91
        }
      ]
    },
    {
      "cell_type": "code",
      "metadata": {
        "id": "cVIalwuSTcB9",
        "colab_type": "code",
        "colab": {}
      },
      "source": [
        "scientists[0]['name'] = 'Ed Lovelace'"
      ],
      "execution_count": 92,
      "outputs": []
    },
    {
      "cell_type": "code",
      "metadata": {
        "id": "dpV9tg-qTkxv",
        "colab_type": "code",
        "colab": {
          "base_uri": "https://localhost:8080/",
          "height": 53
        },
        "outputId": "346e893d-b923-4b67-db5d-ab9670335989"
      },
      "source": [
        "scientists"
      ],
      "execution_count": 93,
      "outputs": [
        {
          "output_type": "execute_result",
          "data": {
            "text/plain": [
              "[{'born': 1815, 'field': 'math', 'name': 'Ed Lovelace', 'nobel': False},\n",
              " {'born': 1882, 'field': 'math', 'name': 'Emmy Noether', 'nobel': False}]"
            ]
          },
          "metadata": {
            "tags": []
          },
          "execution_count": 93
        }
      ]
    },
    {
      "cell_type": "code",
      "metadata": {
        "id": "tGwXXmr_Tqzu",
        "colab_type": "code",
        "colab": {
          "base_uri": "https://localhost:8080/",
          "height": 35
        },
        "outputId": "adb62630-6bb2-4eb0-f6e0-eef44069dbc0"
      },
      "source": [
        "{'nime': 'Marie Curie', 'field': 'physics' }"
      ],
      "execution_count": 94,
      "outputs": [
        {
          "output_type": "execute_result",
          "data": {
            "text/plain": [
              "{'field': 'physics', 'nime': 'Marie Curie'}"
            ]
          },
          "metadata": {
            "tags": []
          },
          "execution_count": 94
        }
      ]
    },
    {
      "cell_type": "markdown",
      "metadata": {
        "id": "kE2KmkBkjyli",
        "colab_type": "text"
      },
      "source": [
        "# Immutable Data Structures"
      ]
    },
    {
      "cell_type": "code",
      "metadata": {
        "id": "ByYIFAcWj-qW",
        "colab_type": "code",
        "colab": {}
      },
      "source": [
        "import collections "
      ],
      "execution_count": 95,
      "outputs": []
    },
    {
      "cell_type": "markdown",
      "metadata": {
        "id": "DVU3MTUCnTSM",
        "colab_type": "text"
      },
      "source": [
        "Factory function below that creates a named tuple class."
      ]
    },
    {
      "cell_type": "code",
      "metadata": {
        "id": "AaGdyDG6m2ay",
        "colab_type": "code",
        "colab": {}
      },
      "source": [
        "Scientist = collections.namedtuple('Scientist', [\n",
        "       'name',\n",
        "       'field',\n",
        "       'born',\n",
        "       'nobel'\n",
        "])                                          "
      ],
      "execution_count": 96,
      "outputs": []
    },
    {
      "cell_type": "code",
      "metadata": {
        "id": "yX6t3s5xnhll",
        "colab_type": "code",
        "colab": {
          "base_uri": "https://localhost:8080/",
          "height": 35
        },
        "outputId": "192fbec6-d3ac-4023-d4a5-d2a0e4119387"
      },
      "source": [
        "Scientist"
      ],
      "execution_count": 97,
      "outputs": [
        {
          "output_type": "execute_result",
          "data": {
            "text/plain": [
              "__main__.Scientist"
            ]
          },
          "metadata": {
            "tags": []
          },
          "execution_count": 97
        }
      ]
    },
    {
      "cell_type": "code",
      "metadata": {
        "id": "88YUkLn_n4Rq",
        "colab_type": "code",
        "colab": {
          "base_uri": "https://localhost:8080/",
          "height": 35
        },
        "outputId": "5ea4286a-9fe6-4ce4-bfdd-f99065859855"
      },
      "source": [
        "Scientist(name='Ada Lovelace', field='math', born=1815, nobel=False)"
      ],
      "execution_count": 98,
      "outputs": [
        {
          "output_type": "execute_result",
          "data": {
            "text/plain": [
              "Scientist(name='Ada Lovelace', field='math', born=1815, nobel=False)"
            ]
          },
          "metadata": {
            "tags": []
          },
          "execution_count": 98
        }
      ]
    },
    {
      "cell_type": "code",
      "metadata": {
        "id": "chsURQ6soOIj",
        "colab_type": "code",
        "colab": {}
      },
      "source": [
        "ada = Scientist(name='Ada Lovelace', field='math', born=1815, nobel=False)"
      ],
      "execution_count": 99,
      "outputs": []
    },
    {
      "cell_type": "code",
      "metadata": {
        "id": "M2Z2U5L6oRpG",
        "colab_type": "code",
        "colab": {
          "base_uri": "https://localhost:8080/",
          "height": 35
        },
        "outputId": "6e03add5-82cb-4067-9d60-bfb4bfd1a76f"
      },
      "source": [
        "ada.name"
      ],
      "execution_count": 100,
      "outputs": [
        {
          "output_type": "execute_result",
          "data": {
            "application/vnd.google.colaboratory.intrinsic+json": {
              "type": "string"
            },
            "text/plain": [
              "'Ada Lovelace'"
            ]
          },
          "metadata": {
            "tags": []
          },
          "execution_count": 100
        }
      ]
    },
    {
      "cell_type": "code",
      "metadata": {
        "id": "KnqZo7floUhl",
        "colab_type": "code",
        "colab": {
          "base_uri": "https://localhost:8080/",
          "height": 35
        },
        "outputId": "185aa98f-dde6-47b9-92a4-0f9ba71229d9"
      },
      "source": [
        "ada.field"
      ],
      "execution_count": 101,
      "outputs": [
        {
          "output_type": "execute_result",
          "data": {
            "application/vnd.google.colaboratory.intrinsic+json": {
              "type": "string"
            },
            "text/plain": [
              "'math'"
            ]
          },
          "metadata": {
            "tags": []
          },
          "execution_count": 101
        }
      ]
    },
    {
      "cell_type": "code",
      "metadata": {
        "id": "mmpkIWMaoYqQ",
        "colab_type": "code",
        "colab": {
          "base_uri": "https://localhost:8080/",
          "height": 172
        },
        "outputId": "872b158b-c9a1-42f9-caa2-48fcdaef3074"
      },
      "source": [
        "ada.name = 'Ed Lovelace'"
      ],
      "execution_count": 102,
      "outputs": [
        {
          "output_type": "error",
          "ename": "AttributeError",
          "evalue": "ignored",
          "traceback": [
            "\u001b[0;31m---------------------------------------------------------------------------\u001b[0m",
            "\u001b[0;31mAttributeError\u001b[0m                            Traceback (most recent call last)",
            "\u001b[0;32m<ipython-input-102-e900d367367a>\u001b[0m in \u001b[0;36m<module>\u001b[0;34m()\u001b[0m\n\u001b[0;32m----> 1\u001b[0;31m \u001b[0mada\u001b[0m\u001b[0;34m.\u001b[0m\u001b[0mname\u001b[0m \u001b[0;34m=\u001b[0m \u001b[0;34m'Ed Lovelace'\u001b[0m\u001b[0;34m\u001b[0m\u001b[0;34m\u001b[0m\u001b[0m\n\u001b[0m",
            "\u001b[0;31mAttributeError\u001b[0m: can't set attribute"
          ]
        }
      ]
    },
    {
      "cell_type": "markdown",
      "metadata": {
        "id": "PavIAM57okbo",
        "colab_type": "text"
      },
      "source": [
        "## Danger Zone: Mixing Mutable and Immutable Data Structures"
      ]
    },
    {
      "cell_type": "code",
      "metadata": {
        "id": "7nahW3dTpqSK",
        "colab_type": "code",
        "colab": {}
      },
      "source": [
        "scientists = [\n",
        "    Scientist(name='Ada Lovelace', field='math', born=1815, nobel=False),\n",
        "    Scientist(name='Emmy Noether', field='math', born=1882, nobel=False),          \n",
        "]"
      ],
      "execution_count": null,
      "outputs": []
    },
    {
      "cell_type": "code",
      "metadata": {
        "id": "vuG8aGGwqMxu",
        "colab_type": "code",
        "colab": {}
      },
      "source": [
        "scientists"
      ],
      "execution_count": null,
      "outputs": []
    },
    {
      "cell_type": "code",
      "metadata": {
        "id": "fjXlCmhLqQht",
        "colab_type": "code",
        "colab": {}
      },
      "source": [
        "from pprint import pprint"
      ],
      "execution_count": null,
      "outputs": []
    },
    {
      "cell_type": "code",
      "metadata": {
        "id": "PB-awkpRqVMo",
        "colab_type": "code",
        "colab": {}
      },
      "source": [
        "pprint(scientists)"
      ],
      "execution_count": null,
      "outputs": []
    },
    {
      "cell_type": "code",
      "metadata": {
        "id": "lgC2Yd_zqdbi",
        "colab_type": "code",
        "colab": {}
      },
      "source": [
        "scientists[0].name = 'Ed Lovelace'"
      ],
      "execution_count": null,
      "outputs": []
    },
    {
      "cell_type": "code",
      "metadata": {
        "id": "UwEDfXFxqlZi",
        "colab_type": "code",
        "colab": {}
      },
      "source": [
        "del scientists[0]"
      ],
      "execution_count": null,
      "outputs": []
    },
    {
      "cell_type": "code",
      "metadata": {
        "id": "WL2LuJ0bqrPo",
        "colab_type": "code",
        "colab": {}
      },
      "source": [
        "scientists"
      ],
      "execution_count": null,
      "outputs": []
    },
    {
      "cell_type": "markdown",
      "metadata": {
        "id": "gUQdJl82qucU",
        "colab_type": "text"
      },
      "source": [
        "Defined immutable items in a mutable data stucture."
      ]
    },
    {
      "cell_type": "markdown",
      "metadata": {
        "id": "q3hOw84Nq314",
        "colab_type": "text"
      },
      "source": [
        "# Immutable Data Structures: Tuples"
      ]
    },
    {
      "cell_type": "code",
      "metadata": {
        "id": "POcbEqvfrck6",
        "colab_type": "code",
        "colab": {}
      },
      "source": [
        "scientists = (\n",
        "    Scientist(name='Ada Lovelace', field='math', born=1815, nobel=False),\n",
        "    Scientist(name='Emmy Noether', field='math', born=1882, nobel=False),\n",
        "    Scientist(name='Marie Curie', field='physics', born=1867, nobel=True),\n",
        "    Scientist(name='Tu Youyou', field='chemistry', born=1930, nobel=True),\n",
        "    Scientist(name='Ada Yonath', field='chemistry', born=1939, nobel=True),\n",
        "    Scientist(name='Vera Rubin', field='astronomy', born=1951, nobel=False),\n",
        "    Scientist(name='Sally Ride', field='physics', born=1951, nobel=False)\n",
        ")"
      ],
      "execution_count": null,
      "outputs": []
    },
    {
      "cell_type": "code",
      "metadata": {
        "id": "ubFp5U-4uTA7",
        "colab_type": "code",
        "colab": {}
      },
      "source": [
        "scientists"
      ],
      "execution_count": null,
      "outputs": []
    },
    {
      "cell_type": "code",
      "metadata": {
        "id": "ZwiF2FWVuWOW",
        "colab_type": "code",
        "colab": {}
      },
      "source": [
        "pprint(scientists)"
      ],
      "execution_count": null,
      "outputs": []
    },
    {
      "cell_type": "code",
      "metadata": {
        "id": "1UXDsGgSuex-",
        "colab_type": "code",
        "colab": {}
      },
      "source": [
        "del scientists[0]"
      ],
      "execution_count": null,
      "outputs": []
    },
    {
      "cell_type": "code",
      "metadata": {
        "id": "D8GBbTXduirI",
        "colab_type": "code",
        "colab": {}
      },
      "source": [
        "scientists[0].name"
      ],
      "execution_count": null,
      "outputs": []
    },
    {
      "cell_type": "code",
      "metadata": {
        "id": "OYNw1LpDupFm",
        "colab_type": "code",
        "colab": {}
      },
      "source": [
        "pprint(scientists)"
      ],
      "execution_count": null,
      "outputs": []
    },
    {
      "cell_type": "markdown",
      "metadata": {
        "id": "gdoVxUrcvUbI",
        "colab_type": "text"
      },
      "source": [
        "## The filter function"
      ]
    },
    {
      "cell_type": "markdown",
      "metadata": {
        "id": "N8Q8q94ex-s7",
        "colab_type": "text"
      },
      "source": [
        "The filter function is a primitive that is built into the language. "
      ]
    },
    {
      "cell_type": "code",
      "metadata": {
        "id": "-qOMzR9MvYyX",
        "colab_type": "code",
        "colab": {}
      },
      "source": [
        "filter(lambda x: x.nobel is True, scientists)"
      ],
      "execution_count": null,
      "outputs": []
    },
    {
      "cell_type": "code",
      "metadata": {
        "id": "xR08JLiNv0Jw",
        "colab_type": "code",
        "colab": {}
      },
      "source": [
        "fs = filter(lambda x: x.nobel is True, scientists)"
      ],
      "execution_count": null,
      "outputs": []
    },
    {
      "cell_type": "code",
      "metadata": {
        "id": "P6xo3OPvv7Kf",
        "colab_type": "code",
        "colab": {}
      },
      "source": [
        "next(fs)"
      ],
      "execution_count": null,
      "outputs": []
    },
    {
      "cell_type": "code",
      "metadata": {
        "id": "Mxckz286wC_K",
        "colab_type": "code",
        "colab": {}
      },
      "source": [
        "next(fs)"
      ],
      "execution_count": null,
      "outputs": []
    },
    {
      "cell_type": "code",
      "metadata": {
        "id": "MTr6eiGywFlK",
        "colab_type": "code",
        "colab": {}
      },
      "source": [
        "next(fs)"
      ],
      "execution_count": null,
      "outputs": []
    },
    {
      "cell_type": "code",
      "metadata": {
        "id": "uVxrLgx5wH_9",
        "colab_type": "code",
        "colab": {}
      },
      "source": [
        "next(fs)"
      ],
      "execution_count": null,
      "outputs": []
    },
    {
      "cell_type": "code",
      "metadata": {
        "id": "4msLYIJ3yRnC",
        "colab_type": "code",
        "colab": {}
      },
      "source": [
        "tuple(filter(lambda x: x.nobel is True, scientists))"
      ],
      "execution_count": null,
      "outputs": []
    },
    {
      "cell_type": "code",
      "metadata": {
        "id": "-EfA3YvnybYy",
        "colab_type": "code",
        "colab": {}
      },
      "source": [
        "fs = tuple(filter(lambda x: x.nobel is True, scientists))"
      ],
      "execution_count": null,
      "outputs": []
    },
    {
      "cell_type": "code",
      "metadata": {
        "id": "7VEF6nfFypGA",
        "colab_type": "code",
        "colab": {}
      },
      "source": [
        "pprint(fs)"
      ],
      "execution_count": null,
      "outputs": []
    },
    {
      "cell_type": "markdown",
      "metadata": {
        "id": "OLtEOlkgyzB6",
        "colab_type": "text"
      },
      "source": [
        "The **filter** function allows us to a apply a function over an iterable of things. Then return a new collection with the met condition."
      ]
    },
    {
      "cell_type": "code",
      "metadata": {
        "id": "gXbA8nF9zMIk",
        "colab_type": "code",
        "colab": {}
      },
      "source": [
        "pprint(tuple(filter(lambda x: True, scientists)))"
      ],
      "execution_count": null,
      "outputs": []
    },
    {
      "cell_type": "code",
      "metadata": {
        "id": "jEO7XBuwzV5k",
        "colab_type": "code",
        "colab": {}
      },
      "source": [
        "pprint(tuple(filter(lambda x: x.field == 'physics', scientists)))"
      ],
      "execution_count": null,
      "outputs": []
    },
    {
      "cell_type": "code",
      "metadata": {
        "id": "mu1ZXVk-zf5C",
        "colab_type": "code",
        "colab": {}
      },
      "source": [
        "pprint(tuple(filter(lambda x: x.field == 'physics' and x.nobel, scientists)))"
      ],
      "execution_count": null,
      "outputs": []
    },
    {
      "cell_type": "markdown",
      "metadata": {
        "id": "cJy06tMW0ItG",
        "colab_type": "text"
      },
      "source": [
        "The advantage of the functional approach is it is declarative and allows for chaining."
      ]
    },
    {
      "cell_type": "code",
      "metadata": {
        "id": "Scx5n_Uxz94h",
        "colab_type": "code",
        "colab": {}
      },
      "source": [
        "for x in scientists:\n",
        "    if x.nobel is True:\n",
        "        print(x)"
      ],
      "execution_count": null,
      "outputs": []
    },
    {
      "cell_type": "code",
      "metadata": {
        "id": "ZLw91pzZ0TDW",
        "colab_type": "code",
        "colab": {}
      },
      "source": [
        "def nobel_filter(x):\n",
        "    return x.nobel is True"
      ],
      "execution_count": null,
      "outputs": []
    },
    {
      "cell_type": "code",
      "metadata": {
        "id": "FGzHbPOd0iHO",
        "colab_type": "code",
        "colab": {}
      },
      "source": [
        "pprint(tuple(filter(nobel_filter, scientists)))"
      ],
      "execution_count": null,
      "outputs": []
    },
    {
      "cell_type": "markdown",
      "metadata": {
        "id": "N5SDzBbr1Rad",
        "colab_type": "text"
      },
      "source": [
        "## Filtering List Comprehensions"
      ]
    },
    {
      "cell_type": "code",
      "metadata": {
        "id": "vreX6kYh1KVi",
        "colab_type": "code",
        "colab": {}
      },
      "source": [
        "[x for x in scientists if x.nobel is True]"
      ],
      "execution_count": null,
      "outputs": []
    },
    {
      "cell_type": "code",
      "metadata": {
        "id": "5Ps4CbDM1ttH",
        "colab_type": "code",
        "colab": {}
      },
      "source": [
        "pprint([x for x in scientists if x.nobel is True])"
      ],
      "execution_count": null,
      "outputs": []
    },
    {
      "cell_type": "code",
      "metadata": {
        "id": "8i72QsEG1wGv",
        "colab_type": "code",
        "colab": {}
      },
      "source": [
        "pprint(tuple([x for x in scientists if x.nobel is True]))"
      ],
      "execution_count": null,
      "outputs": []
    },
    {
      "cell_type": "markdown",
      "metadata": {
        "id": "jiEeJggK186T",
        "colab_type": "text"
      },
      "source": [
        "Getting rid of the list comphrension yields a generator expression. Which is more efficient."
      ]
    },
    {
      "cell_type": "code",
      "metadata": {
        "colab_type": "code",
        "id": "dfEFOH6F2SsA",
        "colab": {}
      },
      "source": [
        "pprint(tuple(x for x in scientists if x.nobel is True))"
      ],
      "execution_count": null,
      "outputs": []
    },
    {
      "cell_type": "code",
      "metadata": {
        "id": "vOrERH312dtg",
        "colab_type": "code",
        "colab": {}
      },
      "source": [
        "tuple([1,2,3])"
      ],
      "execution_count": null,
      "outputs": []
    },
    {
      "cell_type": "markdown",
      "metadata": {
        "id": "EBVcCS0oTKyD",
        "colab_type": "text"
      },
      "source": [
        "### The map function"
      ]
    },
    {
      "cell_type": "markdown",
      "metadata": {
        "id": "q2kIhaouUOvR",
        "colab_type": "text"
      },
      "source": [
        "Map applies a function to all elements of a collection returns a new collection\n",
        "\n"
      ]
    },
    {
      "cell_type": "code",
      "metadata": {
        "id": "-3CMPH4SUIpd",
        "colab_type": "code",
        "colab": {}
      },
      "source": [
        "pprint(scientists)"
      ],
      "execution_count": null,
      "outputs": []
    },
    {
      "cell_type": "code",
      "metadata": {
        "id": "Iszeqdz4Uekd",
        "colab_type": "code",
        "colab": {}
      },
      "source": [
        "names_and_ages = tuple(map(\n",
        "    lambda x: {'name': x.name, 'age': 2017 - x.born},\n",
        "    scientists\n",
        "))"
      ],
      "execution_count": null,
      "outputs": []
    },
    {
      "cell_type": "code",
      "metadata": {
        "id": "KPP-jj1IVeEd",
        "colab_type": "code",
        "colab": {}
      },
      "source": [
        "names_and_ages"
      ],
      "execution_count": null,
      "outputs": []
    },
    {
      "cell_type": "code",
      "metadata": {
        "id": "40bkMYqyVZFI",
        "colab_type": "code",
        "colab": {}
      },
      "source": [
        "pprint(names_and_ages)"
      ],
      "execution_count": null,
      "outputs": []
    },
    {
      "cell_type": "markdown",
      "metadata": {
        "id": "kIY5gWcfV7d_",
        "colab_type": "text"
      },
      "source": [
        "To make this more pythonic we would use a list comphrension."
      ]
    },
    {
      "cell_type": "code",
      "metadata": {
        "id": "GFZGjcatV6h1",
        "colab_type": "code",
        "colab": {}
      },
      "source": [
        "[{'name': x.name, 'age': 2017 - x.born}\n",
        " for x in scientists]"
      ],
      "execution_count": null,
      "outputs": []
    },
    {
      "cell_type": "code",
      "metadata": {
        "id": "RECqGTorWY-p",
        "colab_type": "code",
        "colab": {}
      },
      "source": [
        "tuple({'name': x.name, 'age': 2017 - x.born} for x in scientists)"
      ],
      "execution_count": null,
      "outputs": []
    },
    {
      "cell_type": "markdown",
      "metadata": {
        "id": "-7mXpbQ1XAey",
        "colab_type": "text"
      },
      "source": [
        "Generator expression with the same result."
      ]
    },
    {
      "cell_type": "code",
      "metadata": {
        "id": "ckSsL-imWshv",
        "colab_type": "code",
        "colab": {}
      },
      "source": [
        "pprint(tuple({'name': x.name, 'age': 2017 - x.born} for x in scientists))"
      ],
      "execution_count": null,
      "outputs": []
    },
    {
      "cell_type": "code",
      "metadata": {
        "id": "EArC0NxcXIv9",
        "colab_type": "code",
        "colab": {}
      },
      "source": [
        "pprint(tuple({'name': x.name, 'age': 2017 - x.born} for x in scientists))"
      ],
      "execution_count": null,
      "outputs": []
    },
    {
      "cell_type": "code",
      "metadata": {
        "id": "65jv0_QSXdL6",
        "colab_type": "code",
        "colab": {}
      },
      "source": [
        "pprint(tuple({'name': x.name.upper(), 'age': 2017 - x.born} for x in scientists))"
      ],
      "execution_count": null,
      "outputs": []
    },
    {
      "cell_type": "markdown",
      "metadata": {
        "id": "93ePhSFBXmPR",
        "colab_type": "text"
      },
      "source": [
        "## The reduce function"
      ]
    },
    {
      "cell_type": "markdown",
      "metadata": {
        "id": "T7o36jsoYXFg",
        "colab_type": "text"
      },
      "source": [
        "Takes a function, sequence, and initial value applies the function to"
      ]
    },
    {
      "cell_type": "code",
      "metadata": {
        "id": "KB90_cKaXr_a",
        "colab_type": "code",
        "colab": {}
      },
      "source": [
        "from functools import reduce"
      ],
      "execution_count": null,
      "outputs": []
    },
    {
      "cell_type": "code",
      "metadata": {
        "id": "7VNzpqbWYLxn",
        "colab_type": "code",
        "colab": {}
      },
      "source": [
        "reduce()"
      ],
      "execution_count": null,
      "outputs": []
    },
    {
      "cell_type": "code",
      "metadata": {
        "id": "HzvZg_CGYmhW",
        "colab_type": "code",
        "colab": {}
      },
      "source": [
        "pprint(scientists)"
      ],
      "execution_count": null,
      "outputs": []
    },
    {
      "cell_type": "code",
      "metadata": {
        "id": "at1vmWvzYwj6",
        "colab_type": "code",
        "colab": {
          "base_uri": "https://localhost:8080/",
          "height": 143
        },
        "outputId": "639da665-153b-4513-f3f2-38d260e64c3d"
      },
      "source": [
        "pprint(names_and_ages)"
      ],
      "execution_count": 105,
      "outputs": [
        {
          "output_type": "stream",
          "text": [
            "({'age': 202, 'name': 'Ada Lovelace'},\n",
            " {'age': 135, 'name': 'Emmy Noether'},\n",
            " {'age': 150, 'name': 'Marie Curie'},\n",
            " {'age': 87, 'name': 'Tu Youyou'},\n",
            " {'age': 78, 'name': 'Ada Yonath'},\n",
            " {'age': 66, 'name': 'Vera Rubin'},\n",
            " {'age': 66, 'name': 'Sally Ride'})\n"
          ],
          "name": "stdout"
        }
      ]
    },
    {
      "cell_type": "code",
      "metadata": {
        "id": "Dtxj6k0qYz77",
        "colab_type": "code",
        "colab": {}
      },
      "source": [
        "total_age = reduce(\n",
        "    lambda acc, val: acc + val['age'],\n",
        "    names_and_ages,\n",
        "    0)"
      ],
      "execution_count": 104,
      "outputs": []
    },
    {
      "cell_type": "code",
      "metadata": {
        "id": "OoADBgIUZPsW",
        "colab_type": "code",
        "colab": {
          "base_uri": "https://localhost:8080/",
          "height": 35
        },
        "outputId": "55e84b09-e4f0-4ab0-b8a4-b6f7badb7b7f"
      },
      "source": [
        "total_age"
      ],
      "execution_count": 103,
      "outputs": [
        {
          "output_type": "execute_result",
          "data": {
            "text/plain": [
              "784"
            ]
          },
          "metadata": {
            "tags": []
          },
          "execution_count": 103
        }
      ]
    }
  ]
}